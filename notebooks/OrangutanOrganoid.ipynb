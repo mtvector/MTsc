{
 "cells": [
  {
   "cell_type": "markdown",
   "metadata": {},
   "source": [
    "# Clustering the subsampled 1.3 M cells"
   ]
  },
  {
   "cell_type": "markdown",
   "metadata": {},
   "source": [
    "The data consists in 20K Neurons, downsampled from *1.3 Million Brain Cells from E18 Mice* and is freely available from 10x Genomics ([here](http://cf.10xgenomics.com/samples/cell-exp/1.3.0/1M_neurons/1M_neurons_neuron20k.h5))."
   ]
  },
  {
   "cell_type": "code",
   "execution_count": 1,
   "metadata": {
    "scrolled": true
   },
   "outputs": [
    {
     "name": "stdout",
     "output_type": "stream",
     "text": [
      "scanpy==1.1a1+131.gb09db5e anndata==0.6.5 numpy==1.14.2 scipy==1.0.1 pandas==0.22.0 scikit-learn==0.19.1 statsmodels==0.9.0 python-igraph==0.7.1 louvain==0.6.1 \n"
     ]
    }
   ],
   "source": [
    "import numpy as np\n",
    "import scanpy.api as sc\n",
    "import os\n",
    "import velocyto as vcy\n",
    "import loompy\n",
    "import scanpy\n",
    "import re\n",
    "sc.settings.verbosity = 3  # verbosity: errors (0), warnings (1), info (2), hints (3)\n",
    "sc.settings.set_figure_params(dpi=70)  # dots (pixels) per inch determine size of inline figures\n",
    "sc.logging.print_versions()\n"
   ]
  },
  {
   "cell_type": "code",
   "execution_count": null,
   "metadata": {},
   "outputs": [],
   "source": [
    "ds= loompy.connect(os.path.expanduser('~/code/data/AlignedOrangutanOrganoid/Exonic/orangutanorganoid_Out/velocyto/orangutanorganoid_Out.loom'))\n",
    "row_attrs = dict(ds.row_attrs.items())\n",
    "col_attrs = dict(ds.col_attrs.items())\n",
    "print(col_attrs)\n",
    "col_attrs['CellID'] = [re.sub(\"x\", \"\", x) for x in col_attrs['CellID']]\n",
    "col_attrs['CellID'] = [re.sub(\"^[a-zA-Z0-9_]+:\", \"\", x) for x in col_attrs['CellID']]\n",
    "\n",
    "adata.obs_names = [re.sub(\"-[0-9]\", \"\", x) for x in adata.obs_names]\n",
    "#print(adata.obs_names)\n",
    "gene_names = [gene for gene in row_attrs['Gene'] if gene in adata.var_names]\n",
    "cell_names = [cell for cell in col_attrs['CellID'] if cell in adata.obs_names]\n",
    "\n",
    "# subset the s and u matrices to the genes in adata\n",
    "from anndata.base import _normalize_index\n",
    "gene_index = _normalize_index(gene_names, adata.var_names)\n",
    "cell_index = _normalize_index(cell_names, adata.obs_names)\n"
   ]
  },
  {
   "cell_type": "code",
   "execution_count": null,
   "metadata": {},
   "outputs": [],
   "source": []
  },
  {
   "cell_type": "code",
   "execution_count": null,
   "metadata": {},
   "outputs": [],
   "source": []
  },
  {
   "cell_type": "code",
   "execution_count": null,
   "metadata": {},
   "outputs": [],
   "source": []
  },
  {
   "cell_type": "code",
   "execution_count": null,
   "metadata": {},
   "outputs": [],
   "source": [
    "#adata=sc.read_loom(velocityFile)\n",
    "adata = sc.read_10x_h5('/home/mt/code/data/AlignedOrangutanOrganoid/Exonic/orangutanorganoid_Out/outs/filtered_gene_bc_matrices_h5.h5','refdata-celranger-Pabe2-toplevel')\n",
    "adata=sc.tl.rna_velocity(adata,os.path.expanduser('~/code/data/AlignedOrangutanOrganoid/Exonic/orangutanorganoid_Out/velocyto/orangutanorganoid_Out.loom'))"
   ]
  },
  {
   "cell_type": "code",
   "execution_count": null,
   "metadata": {},
   "outputs": [],
   "source": []
  },
  {
   "cell_type": "code",
   "execution_count": null,
   "metadata": {},
   "outputs": [],
   "source": [
    "vars(adata)\n",
    "scanpy.utils"
   ]
  },
  {
   "cell_type": "code",
   "execution_count": null,
   "metadata": {},
   "outputs": [],
   "source": [
    "downSampled.U"
   ]
  },
  {
   "cell_type": "markdown",
   "metadata": {},
   "source": [
    "Run standard preprocessing steps, see [here](https://scanpy.readthedocs.io/en/latest/api/scanpy.api.pp.recipe_zheng17.html#scanpy.api.pp.recipe_zheng17)."
   ]
  },
  {
   "cell_type": "code",
   "execution_count": null,
   "metadata": {},
   "outputs": [],
   "source": [
    "n_top_genes=3000\n",
    "log=False\n",
    "\n",
    "sc.pp.filter_genes(adata, min_counts=1)  # only consider genes with more than 1 count\n",
    "sc.pp.normalize_per_cell(                # normalize with total UMI count per cell\n",
    "     adata, key_n_counts='n_counts_all')\n",
    "filter_result = sc.pp.filter_genes_dispersion(  # select highly-variable genes\n",
    "    adata.X, flavor='cell_ranger', n_top_genes=n_top_genes, log=log)\n",
    "adata = adata[:, filter_result.gene_subset]     # subset the genes\n",
    "sc.pp.normalize_per_cell(adata)          # renormalize after filtering\n",
    "if log: sc.pp.log1p(adata)               # log transform: adata.X = log(adata.X + 1)\n",
    "sc.pp.scale(adata)# scale to unit variance and shift to zero mean\n"
   ]
  },
  {
   "cell_type": "code",
   "execution_count": null,
   "metadata": {},
   "outputs": [],
   "source": [
    "sc.pp.pca(adata)\n",
    "sc.tl.tsne(adata)"
   ]
  },
  {
   "cell_type": "code",
   "execution_count": null,
   "metadata": {},
   "outputs": [],
   "source": [
    "sc.pp.neighbors(adata)"
   ]
  },
  {
   "cell_type": "code",
   "execution_count": null,
   "metadata": {},
   "outputs": [],
   "source": [
    "sc.tl.louvain(adata)"
   ]
  },
  {
   "cell_type": "code",
   "execution_count": null,
   "metadata": {},
   "outputs": [],
   "source": [
    "print(adata.obs_keys)\n",
    "sc.pl.tsne(adata, color='louvain')"
   ]
  },
  {
   "cell_type": "code",
   "execution_count": null,
   "metadata": {},
   "outputs": [],
   "source": [
    "velocityFile = os.path.expanduser('~/code/data/AlignedOrangutanOrganoid/Exonic/orangutanorganoid_Out/velocyto/orangutanorganoid_Out.loom')\n",
    "vlm = vcy.VelocytoLoom(velocityFile)"
   ]
  },
  {
   "cell_type": "code",
   "execution_count": null,
   "metadata": {},
   "outputs": [],
   "source": [
    "numC=6000\n",
    "numG=6000\n",
    "\n",
    "vlm.A=vlm.A[0:numG,0:numC]\n",
    "vlm.U=vlm.U[0:numG,0:numC]\n",
    "vlm.S=vlm.S[0:numG,0:numC]\n",
    "for k in vlm.ca.keys():\n",
    "    vlm.ca[k]=vlm.ca[k][0:numC]\n",
    "for k in vlm.ra.keys():\n",
    "    vlm.ra[k]=vlm.ra[k][0:numG]\n",
    "\n",
    "vlm.initial_Ucell_size=vlm.initial_Ucell_size[0:numC]\n",
    "vlm.initial_cell_size=vlm.initial_cell_size[0:numC]\n",
    "\n",
    "for x in vars(vlm):\n",
    "    print(x)\n",
    "    print(getattr(vlm,x))\n",
    "\n",
    "vlm.to_hdf5(os.path.expanduser('~/code/data/AlignedOrangutanOrganoid/Exonic/orangutanorganoid_Out/velocyto/orangutanorganoid_Subsample.hdf5'))"
   ]
  },
  {
   "cell_type": "code",
   "execution_count": null,
   "metadata": {},
   "outputs": [],
   "source": [
    "downSampled= vcy.load_velocyto_hdf5(os.path.expanduser('~/code/data/AlignedOrangutanOrganoid/Exonic/orangutanorganoid_Out/velocyto/orangutanorganoid_Subsample.hdf5'))"
   ]
  },
  {
   "cell_type": "code",
   "execution_count": null,
   "metadata": {},
   "outputs": [],
   "source": [
    "vars(downSampled)\n",
    "#vlm.plot_fractions()\n",
    "#'TBR1' in .ra['Gene']\n"
   ]
  },
  {
   "cell_type": "code",
   "execution_count": null,
   "metadata": {},
   "outputs": [],
   "source": [
    "downSampled.normalize(\"S\", size=True, log=True)\n",
    "downSampled.S_norm  # contains log normalized\n",
    "downSampled.filter_cells(bool_array=downSampled.initial_Ucell_size > np.percentile(downSampled.initial_Ucell_size, 0.5))\n",
    "#adata=sc.read_h5ad(os.path.expanduser('~/code/data/AlignedOrangutanOrganoid/Exonic/orangutanorganoid_Out/velocyto/orangutanorganoid_Subsample.hdf5'))\n",
    "\n",
    "#downSampled.set_clusters(downSampled.ca[\"louvain\"])\n",
    "downSampled.score_detection_levels(min_expr_counts=10, min_cells_express=10)\n",
    "downSampled.filter_genes(by_detection_levels=True)\n",
    "downSampled.score_cv_vs_mean(20, plot=True, max_expr_avg=15)\n",
    "downSampled.filter_genes(by_cv_vs_mean=True)\n",
    "downSampled._normalize_S(relative_size=downSampled.S.sum(0),\n",
    "             target_size=downSampled.S.sum(0).mean())\n",
    "downSampled._normalize_U(relative_size=downSampled.U.sum(0),\n",
    "             target_size=downSampled.U.sum(0).mean())\n",
    "downSampled.perform_PCA()\n",
    "downSampled.knn_imputation(n_pca_dims=20, k=500, balanced=True, b_sight=3000, b_maxl=1500, n_jobs=16)\n",
    "downSampled.fit_gammas()\n",
    "downSampled.plot_phase_portraits([\"SOX2\", \"TBR1\"])\n",
    "\n"
   ]
  }
 ],
 "metadata": {
  "anaconda-cloud": {},
  "kernelspec": {
   "display_name": "Python 3",
   "language": "python",
   "name": "python3"
  },
  "language_info": {
   "codemirror_mode": {
    "name": "ipython",
    "version": 3
   },
   "file_extension": ".py",
   "mimetype": "text/x-python",
   "name": "python",
   "nbconvert_exporter": "python",
   "pygments_lexer": "ipython3",
   "version": "3.6.0"
  }
 },
 "nbformat": 4,
 "nbformat_minor": 1
}
