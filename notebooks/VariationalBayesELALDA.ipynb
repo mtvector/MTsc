{
 "cells": [
  {
   "cell_type": "code",
   "execution_count": 197,
   "metadata": {},
   "outputs": [],
   "source": [
    "%matplotlib inline\n",
    "import sys, os\n",
    "# unfortunately I was not able to run it on GPU due to overflow problems\n",
    "\n",
    "import theano\n",
    "\n",
    "from collections import OrderedDict\n",
    "from copy import deepcopy\n",
    "import numpy as np\n",
    "from time import time\n",
    "from sklearn.feature_extraction.text import TfidfVectorizer, CountVectorizer\n",
    "from sklearn.datasets import fetch_20newsgroups\n",
    "import matplotlib.pyplot as plt\n",
    "import seaborn as sns\n",
    "from theano import shared\n",
    "import theano.tensor as tt\n",
    "from theano.sandbox.rng_mrg import MRG_RandomStreams\n",
    "\n",
    "import pymc3 as pm\n",
    "from pymc3 import math as pmmath\n",
    "from pymc3 import Dirichlet\n",
    "from pymc3.distributions import Interpolated\n",
    "from pymc3.distributions.transforms import t_stick_breaking\n",
    "plt.style.use('seaborn-darkgrid')"
   ]
  },
  {
   "cell_type": "code",
   "execution_count": 198,
   "metadata": {},
   "outputs": [],
   "source": [
    "import scanpy.api as sc\n",
    "import pandas as pd\n",
    "adata = sc.read_10x_mtx('/home/mt/Downloads/E40_motor_Out/outs/raw_gene_bc_matrices/refdata-celranger-mmul8-toplevel/',cache=True)\n",
    "bcs=list(pd.read_csv('/home/mt/Downloads/E40_motor_Out/outs/filtered_gene_bc_matrices/refdata-celranger-mmul8-toplevel/barcodes.tsv').iloc[:,0])\n",
    "#adata = sc.read_10x_h5('/home/mt/code/data/AlignedOrangutanOrganoid/Exonic/orangutanorganoid_Out/outs/filtered_gene_bc_matrices_h5.h5','refdata-celranger-Pabe2-toplevel')\n",
    "adata.var_names_make_unique()\n",
    "sc.pp.filter_genes(adata, min_cells=50,inplace=True)\n",
    "sc.pp.filter_cells(adata,min_counts=5,inplace=True)\n",
    "adata=adata[adata.obs.n_counts.argsort(),:]\n"
   ]
  },
  {
   "cell_type": "code",
   "execution_count": 199,
   "metadata": {},
   "outputs": [
    {
     "data": {
      "text/plain": [
       "AnnData object with n_obs × n_vars = 11110 × 2180 \n",
       "    obs: 'n_counts'\n",
       "    var: 'gene_ids', 'n_cells'"
      ]
     },
     "execution_count": 199,
     "metadata": {},
     "output_type": "execute_result"
    }
   ],
   "source": [
    "adata._inplace_subset_obs(np.random.choice(adata.obs.index,17000,replace=False))\n",
    "adata._inplace_subset_var(np.random.choice(adata.var.index,4000,replace=False))\n",
    "sc.pp.filter_genes(adata, min_cells=50,inplace=True)\n",
    "sc.pp.filter_cells(adata,min_counts=5,inplace=True)\n",
    "adata"
   ]
  },
  {
   "cell_type": "code",
   "execution_count": 200,
   "metadata": {},
   "outputs": [],
   "source": [
    "from scipy.stats import gaussian_kde\n",
    "ambient_counts=np.log10(adata[[x not in bcs for x in adata.obs.index] ,:].obs.n_counts)\n",
    "\n",
    "def from_epdf(param, ambient_counts):\n",
    "    smin, smax = np.min(ambient_counts), np.max(ambient_counts)\n",
    "    width = smax - smin\n",
    "    x = np.linspace(smin, smax, 200)\n",
    "    y = gaussian_kde(ambient_counts)(x)\n",
    "    x = np.concatenate([[-1e9,-100,0], x, [x[-1] + np.log10(10)]])\n",
    "    y = np.concatenate([[1e-1000,1e-200,1e-2], y, [1e-20]])\n",
    "    #print(x)\n",
    "    #print(y)\n",
    "    sns.scatterplot(x,y)\n",
    "    plt.show()\n",
    "    return Interpolated(param, x, y)"
   ]
  },
  {
   "cell_type": "code",
   "execution_count": 201,
   "metadata": {},
   "outputs": [],
   "source": [
    "cell_inds=np.where([x in bcs for x in adata.obs.index])[0]\n",
    "junk_inds=np.where([x not in bcs for x in adata.obs.index])[0]\n",
    "\n"
   ]
  },
  {
   "cell_type": "code",
   "execution_count": 202,
   "metadata": {},
   "outputs": [],
   "source": [
    "feature_names=list(adata.var.index)\n",
    "tf=adata.X.copy()\n"
   ]
  },
  {
   "cell_type": "code",
   "execution_count": 203,
   "metadata": {},
   "outputs": [
    {
     "name": "stdout",
     "output_type": "stream",
     "text": [
      "Number of docs for training = 11110\n",
      "Number of docs for test = 0\n",
      "Number of tokens in training set = 1037915.0\n",
      "Sparsity = 0.021361448071412645\n"
     ]
    }
   ],
   "source": [
    "n_samples_tr = tf.shape[0]\n",
    "n_samples_te = tf.shape[0] - n_samples_tr\n",
    "docs_tr = tf[:n_samples_tr, :]\n",
    "docs_te = tf[n_samples_tr:, :]\n",
    "print('Number of docs for training = {}'.format(docs_tr.shape[0]))\n",
    "print('Number of docs for test = {}'.format(docs_te.shape[0]))\n",
    "\n",
    "n_tokens = np.sum(docs_tr[docs_tr.nonzero()])\n",
    "print('Number of tokens in training set = {}'.format(n_tokens))\n",
    "print('Sparsity = {}'.format(\n",
    "    len(docs_tr.nonzero()[0]) / float(docs_tr.shape[0] * docs_tr.shape[1])))"
   ]
  },
  {
   "cell_type": "code",
   "execution_count": 204,
   "metadata": {},
   "outputs": [],
   "source": [
    "n_topics=10\n",
    "L = (1.0 / n_topics) * np.ones((tf.shape[0], n_topics))\n",
    "L[junk_inds,:]=1e-50\n",
    "L[junk_inds,L.shape[1]-1]=1\n",
    "L=pm.floatX(L)"
   ]
  },
  {
   "cell_type": "code",
   "execution_count": 205,
   "metadata": {},
   "outputs": [
    {
     "data": {
      "text/plain": [
       "array([[1.e-50, 1.e-50, 1.e-50, ..., 1.e-50, 1.e-50, 1.e+00],\n",
       "       [1.e-50, 1.e-50, 1.e-50, ..., 1.e-50, 1.e-50, 1.e+00],\n",
       "       [1.e-50, 1.e-50, 1.e-50, ..., 1.e-50, 1.e-50, 1.e+00],\n",
       "       ...,\n",
       "       [1.e-50, 1.e-50, 1.e-50, ..., 1.e-50, 1.e-50, 1.e+00],\n",
       "       [1.e-50, 1.e-50, 1.e-50, ..., 1.e-50, 1.e-50, 1.e+00],\n",
       "       [1.e-50, 1.e-50, 1.e-50, ..., 1.e-50, 1.e-50, 1.e+00]])"
      ]
     },
     "execution_count": 205,
     "metadata": {},
     "output_type": "execute_result"
    }
   ],
   "source": [
    "L"
   ]
  },
  {
   "cell_type": "code",
   "execution_count": 206,
   "metadata": {},
   "outputs": [],
   "source": [
    "def logp_lda_doc(doc_t,beta, theta,L,density):\n",
    "    \"\"\"Returns the log-likelihood function for given documents.\n",
    "\n",
    "    K : number of topics in the model\n",
    "    V : number of words (size of vocabulary)\n",
    "    D : number of documents (in a mini-batch)\n",
    "\n",
    "    Parameters\n",
    "    ----------\n",
    "    beta : tensor (K x V)\n",
    "        Word distributions.\n",
    "    theta : tensor (D x K)\n",
    "        Topic distributions for documents.\n",
    "    dixs : which doc\n",
    "    vixs : which word\n",
    "    vfreqs : frequency of doc x word\n",
    "    \"\"\"\n",
    "    def ll_docs_f(inds):\n",
    "        #print(docs.eval())\n",
    "        inds=inds.eval()\n",
    "        docs=shared(doc_t[inds,:].toarray())\n",
    "        dixs, vixs = docs.nonzero()\n",
    "        vfreqs = docs[dixs, vixs]\n",
    "        inds=inds.astype('int32')\n",
    "        subtheta=theta[inds,:]\n",
    "        '''tt.printing.Print('dixs')(dixs)\n",
    "        tt.printing.Print('docT')(inds.astype('int32'))\n",
    "        tt.printing.Print('LFull')(tt.log10(L))\n",
    "        tt.printing.Print('L')(tt.log10(L[inds,:][dixs]))\n",
    "        tt.printing.Print('Lsummax')(tt.max(tt.sum(tt.log10(L[dixs]),axis=1)))\n",
    "        tt.printing.Print('Lsubsummax')(tt.max(tt.sum(tt.log10(L[inds,:][dixs]),axis=1)))\n",
    "        tt.printing.Print('thetafull')(theta.shape)\n",
    "        tt.printing.Print('theta')(tt.log10(theta[dixs]))\n",
    "        tt.printing.Print('beta')(tt.log10(beta.T[vixs]))'''\n",
    "        ll_docs = vfreqs * pmmath.logsumexp(\n",
    "            tt.log10(L[inds,:][dixs]) + tt.log10(subtheta[dixs]) + tt.log10(beta.T[vixs]),\n",
    "            #tt.log10(theta[inds,:][dixs]) + tt.log10(beta.T[vixs]),\n",
    "            axis=1).ravel()\n",
    "        #*(tt.sum(ambient.distribution.logp(tt.log10(tt.sum(docs,axis=1)*theta[0:,theta.shape[1]-1]))) / beta.shape[1])\n",
    "        # Per-word log-likelihood times num of tokens in the whole dataset * Log likelihood of \n",
    "        #tt.printing.Print('prob')(ambient.distribution.logp(2))\n",
    "        #tt.printing.Print('docs')(docs)\n",
    "        tt.printing.Print('logsum')(tt.log10(tt.sum(docs,axis=1)))\n",
    "        #tt.printing.Print('subtheta')(subtheta)\n",
    "        tt.printing.Print('logsum+theta')(tt.sum(ambient.distribution.logp(tt.log10(tt.sum(docs,axis=1)*subtheta[:,theta.shape[1]-1]))) - tt.log10(beta.shape[1]))\n",
    "        tt.printing.Print('distout')((tt.sum(ll_docs) / (tt.sum(vfreqs)+1e-9) * n_tokens))\n",
    "        tt.printing.Print('likelihood')((tt.sum(ll_docs) / (tt.sum(vfreqs)+1e-9) * n_tokens)+(tt.sum(ambient.distribution.logp(tt.log10(tt.sum(docs,axis=1)*subtheta[:,theta.shape[1]-1]))) - tt.log10(beta.shape[1])))\n",
    "        #tt.printing.Print('lldocs')(ll_docs)\n",
    "        return ((tt.sum(ll_docs) / (tt.sum(vfreqs)+1e-9) * n_tokens)+(tt.sum(ambient.distribution.logp(tt.log10((tt.sum(docs,axis=1)+1e-9)*subtheta[:,theta.shape[1]-1]))) - tt.log10(beta.shape[1])))\n",
    "\n",
    "    return ll_docs_f\n"
   ]
  },
  {
   "cell_type": "code",
   "execution_count": 225,
   "metadata": {},
   "outputs": [
    {
     "data": {
      "image/png": "[encoded data removed]",
      "text/plain": [
       "<Figure size 432x288 with 1 Axes>"
      ]
     },
     "metadata": {},
     "output_type": "display_data"
    },
    {
     "name": "stdout",
     "output_type": "stream",
     "text": [
      "logsum __str__ = [1.0791812 0.69897   1.6532125 1.30103   1.968483  1.9637878 1.4771212\n",
      " 1.6334685 1.3802112 1.7708521 3.8155112 1.3424227 1.462398  2.075547\n",
      " 1.90309   1.3802112 1.5185139 1.5440681 0.90309   1.39794   1.4471581\n",
      " 1.3222193 1.230449  1.462398  0.69897   1.5314789 1.30103   1.7075702\n",
      " 0.90309   0.845098  1.6434526 1.3222193 1.90309   1.230449  1.3617278\n",
      " 1.30103   0.845098  2.071882  1.5563025 0.69897   1.5682018 0.9542425\n",
      " 1.5910646 0.90309   1.39794   0.69897   1.5910646 1.2552725]\n",
      "logsum+theta __str__ = -48.21824278383789\n",
      "distout __str__ = -3211750.6258665863\n",
      "likelihood __str__ = -3211798.8441093704\n",
      "logsum __str__ = [1.0791812 0.69897   1.6532125 1.30103   1.968483  1.9637878 1.4771212\n",
      " 1.6334685 1.3802112 1.7708521 3.8155112 1.3424227 1.462398  2.075547\n",
      " 1.90309   1.3802112 1.5185139 1.5440681 0.90309   1.39794   1.4471581\n",
      " 1.3222193 1.230449  1.462398  0.69897   1.5314789 1.30103   1.7075702\n",
      " 0.90309   0.845098  1.6434526 1.3222193 1.90309   1.230449  1.3617278\n",
      " 1.30103   0.845098  2.071882  1.5563025 0.69897   1.5682018 0.9542425\n",
      " 1.5910646 0.90309   1.39794   0.69897   1.5910646 1.2552725]\n",
      "logsum+theta __str__ = -48.21824278383789\n",
      "distout __str__ = -3211750.6258665863\n",
      "likelihood __str__ = -3211798.8441093704\n",
      "logsum __str__ = [1.0791812 0.69897   1.6532125 1.30103   1.968483  1.9637878 1.4771212\n",
      " 1.6334685 1.3802112 1.7708521 3.8155112 1.3424227 1.462398  2.075547\n",
      " 1.90309   1.3802112 1.5185139 1.5440681 0.90309   1.39794   1.4471581\n",
      " 1.3222193 1.230449  1.462398  0.69897   1.5314789 1.30103   1.7075702\n",
      " 0.90309   0.845098  1.6434526 1.3222193 1.90309   1.230449  1.3617278\n",
      " 1.30103   0.845098  2.071882  1.5563025 0.69897   1.5682018 0.9542425\n",
      " 1.5910646 0.90309   1.39794   0.69897   1.5910646 1.2552725]\n",
      "logsum+theta __str__ = -48.21824278383789\n",
      "distout __str__ = -3211750.6258665863\n",
      "likelihood __str__ = -3211798.8441093704\n"
     ]
    }
   ],
   "source": [
    "n_topics = 10\n",
    "# we have sparse dataset. It's better to have dense batch so that all words occur there\n",
    "minibatch_size = 48\n",
    "n_words=tf.shape[1]\n",
    "\n",
    "# defining minibatch\n",
    "#Can't load these arrays\n",
    "doc_t_minibatch = pm.Minibatch(list(range(docs_tr.shape[0])), minibatch_size)\n",
    "doc_t = np.random.choice(list(range(docs_tr.shape[0]-1)),minibatch_size-2)\n",
    "#print(list(doc_t)+[0])\n",
    "doc_t=[0,docs_tr.shape[0]-1]+list(doc_t)\n",
    "with pm.Model() as model:\n",
    "    theta = Dirichlet('theta', a=pm.floatX(L),\n",
    "                      shape=(docs_tr.shape[0], n_topics), transform=t_stick_breaking(1e-9),\n",
    "                      # do not forget scaling\n",
    "                      total_size=docs_tr.shape[0])\n",
    "    beta = Dirichlet('beta', a=pm.floatX((10.0 / n_topics) * np.ones((n_topics, n_words))),\n",
    "                     shape=(n_topics, n_words), transform=t_stick_breaking(1e-9))\n",
    "    ambient=from_epdf('ambient',ambient_counts)\n",
    "    # Note, that we defined likelihood with scaling, so here we need no additional `total_size` kwarg\n",
    "    doc = pm.DensityDist('doc', logp_lda_doc(docs_tr,beta, theta,shared(L),ambient), observed=doc_t)"
   ]
  },
  {
   "cell_type": "code",
   "execution_count": 226,
   "metadata": {},
   "outputs": [],
   "source": [
    "class LDAEncoder:\n",
    "    \"\"\"Encode (term-frequency) document vectors to variational means and (log-transformed) stds.\n",
    "    \"\"\"\n",
    "    def __init__(self, n_words, n_hidden, n_topics, p_corruption=0, random_seed=1):\n",
    "        rng = np.random.RandomState(random_seed)\n",
    "        self.n_words = n_words\n",
    "        self.n_hidden = n_hidden\n",
    "        self.n_topics = n_topics\n",
    "        self.w0 = shared(0.01 * rng.randn(n_words, n_hidden).ravel(), name='w0')\n",
    "        self.b0 = shared(0.01 * rng.randn(n_hidden), name='b0')\n",
    "        self.w1 = shared(0.01 * rng.randn(n_hidden, 2 * (n_topics - 1)).ravel(), name='w1')\n",
    "        self.b1 = shared(0.01 * rng.randn(2 * (n_topics - 1)), name='b1')\n",
    "        self.rng = MRG_RandomStreams(seed=random_seed)\n",
    "        self.p_corruption = p_corruption\n",
    "\n",
    "    def encode(self, xs):\n",
    "        if 0 < self.p_corruption:\n",
    "            dixs, vixs = xs.nonzero()\n",
    "            mask = tt.set_subtensor(\n",
    "                tt.zeros_like(xs)[dixs, vixs],\n",
    "                self.rng.binomial(size=dixs.shape, n=1, p=1-self.p_corruption)\n",
    "            )\n",
    "            xs_ = xs * mask\n",
    "        else:\n",
    "            xs_ = xs\n",
    "\n",
    "        w0 = self.w0.reshape((self.n_words, self.n_hidden))\n",
    "        w1 = self.w1.reshape((self.n_hidden, 2 * (self.n_topics - 1)))\n",
    "        hs = tt.tanh(xs_.dot(w0) + self.b0)\n",
    "        zs = hs.dot(w1) + self.b1\n",
    "        zs_mean = zs[:, :(self.n_topics - 1)]\n",
    "        zs_rho = zs[:, (self.n_topics - 1):]\n",
    "        return {'mu': zs_mean, 'rho':zs_rho}\n",
    "\n",
    "    def get_params(self):\n",
    "        return [self.w0, self.b0, self.w1, self.b1]"
   ]
  },
  {
   "cell_type": "code",
   "execution_count": 227,
   "metadata": {
    "scrolled": true
   },
   "outputs": [
    {
     "name": "stdout",
     "output_type": "stream",
     "text": [
      "Built Encoder\n"
     ]
    },
    {
     "data": {
      "text/plain": [
       "OrderedDict([(theta,\n",
       "              {'mu': Subtensor{::, :int64:}.0,\n",
       "               'rho': Subtensor{::, int64::}.0})])"
      ]
     },
     "execution_count": 227,
     "metadata": {},
     "output_type": "execute_result"
    }
   ],
   "source": [
    "encoder = LDAEncoder(n_words=n_words, n_hidden=100, n_topics=n_topics, p_corruption=0.0)\n",
    "print('Built Encoder')\n",
    "local_RVs = OrderedDict([(theta, encoder.encode(shared(docs_tr[doc_t,:].toarray())))])\n",
    "doc_t=shared(doc_t)\n",
    "local_RVs"
   ]
  },
  {
   "cell_type": "code",
   "execution_count": 228,
   "metadata": {},
   "outputs": [
    {
     "data": {
      "text/plain": [
       "[w0, b0, w1, b1]"
      ]
     },
     "execution_count": 228,
     "metadata": {},
     "output_type": "execute_result"
    }
   ],
   "source": [
    "encoder_params = encoder.get_params()\n",
    "encoder_params"
   ]
  },
  {
   "cell_type": "code",
   "execution_count": 229,
   "metadata": {},
   "outputs": [
    {
     "name": "stderr",
     "output_type": "stream",
     "text": [
      "  0%|          | 0/1000000 [00:00<?, ?it/s]/home/mt/code/utils/miniconda3/envs/pymc/lib/python3.7/site-packages/theano/tensor/subtensor.py:2197: FutureWarning: Using a non-tuple sequence for multidimensional indexing is deprecated; use `arr[tuple(seq)]` instead of `arr[seq]`. In the future this will be interpreted as an array index, `arr[np.array(seq)]`, which will result either in an error or a different result.\n",
      "  rval = inputs[0].__getitem__(inputs[1:])\n",
      "Average Loss = 1.9916e+07:   9%|▉         | 93276/1000000 [17:21:03<11:03:48, 22.77it/s]      \n",
      "Interrupted at 93,278 [9%]: Average Loss = 2.1433e+07\n"
     ]
    }
   ],
   "source": [
    "#https://alexioannides.com/2018/11/07/bayesian-regression-in-pymc3-using-mcmc-variational-inference/\n",
    "η = .5\n",
    "s = shared(η)\n",
    "def reduce_rate(a, h, i):\n",
    "    s.set_value(η/((i/minibatch_size)+1)**.5)\n",
    "\n",
    "with model:\n",
    "    #step = pm.Metropolis()\n",
    "    #start = pm.find_MAP(model=model,progressbar=True)\n",
    "    #step = pm.NUTS()\n",
    "    #trace=pm.sample(draws=1000, progressbar=True)\n",
    "    #approx = pm.fit(100, callbacks=[pm.callbacks.CheckParametersConvergence(tolerance=1e-4)])\n",
    "    advi_fit=pm.fit(method=pm.ADVI(),callbacks=[reduce_rate], n=1000000,more_replacements={doc_t: doc_t_minibatch})\n"
   ]
  },
  {
   "cell_type": "code",
   "execution_count": 224,
   "metadata": {},
   "outputs": [
    {
     "data": {
      "text/plain": [
       "<matplotlib.axes._subplots.AxesSubplot at 0x7f3991587080>"
      ]
     },
     "execution_count": 224,
     "metadata": {},
     "output_type": "execute_result"
    },
    {
     "data": {
      "image/png": "[encoded data removed]",
      "text/plain": [
       "<Figure size 432x288 with 1 Axes>"
      ]
     },
     "metadata": {},
     "output_type": "display_data"
    }
   ],
   "source": [
    "sns.distplot(np.mean(advi_fit.sample(50)['theta'],axis=0)[cell_inds,8],kde=False)\n",
    "sns.distplot(model.theta.__getstate__()['tag'].__dict__['test_value'][cell_inds,9],kde=False)"
   ]
  },
  {
   "cell_type": "code",
   "execution_count": 214,
   "metadata": {},
   "outputs": [
    {
     "data": {
      "text/plain": [
       "<matplotlib.axes._subplots.AxesSubplot at 0x7f3990359588>"
      ]
     },
     "execution_count": 214,
     "metadata": {},
     "output_type": "execute_result"
    },
    {
     "data": {
      "image/png": "[encoded data removed]",
      "text/plain": [
       "<Figure size 432x288 with 1 Axes>"
      ]
     },
     "metadata": {},
     "output_type": "display_data"
    }
   ],
   "source": [
    "sns.distplot(np.mean(advi_fit.sample(20)['theta'],axis=0)[:,9],kde=False)\n"
   ]
  },
  {
   "cell_type": "code",
   "execution_count": 215,
   "metadata": {},
   "outputs": [
    {
     "data": {
      "text/plain": [
       "<matplotlib.axes._subplots.AxesSubplot at 0x7f399062e3c8>"
      ]
     },
     "execution_count": 215,
     "metadata": {},
     "output_type": "execute_result"
    },
    {
     "data": {
      "image/png": "[encoded data removed]",
      "text/plain": [
       "<Figure size 432x288 with 1 Axes>"
      ]
     },
     "metadata": {},
     "output_type": "display_data"
    }
   ],
   "source": [
    "advi_elbo = pd.DataFrame(\n",
    "    {'log-ELBO': -np.log(advi_fit.hist),\n",
    "     'n': np.arange(advi_fit.hist.shape[0])})\n",
    "\n",
    "sns.lineplot(y='log-ELBO', x='n', data=advi_elbo)"
   ]
  },
  {
   "cell_type": "code",
   "execution_count": 216,
   "metadata": {},
   "outputs": [],
   "source": [
    "import pickle \n",
    "with open('/home/mt/Desktop/advimodel.pickle', 'wb') as buff:\n",
    "    pickle.dump({ 'theta': np.mean(advi_fit.sample(50)['theta'],axis=0)}, buff)\n",
    "\n",
    "with open('/home/mt/Desktop/advimodel.pickle', 'rb') as buff:\n",
    "    data = pickle.load(buff)\n",
    "theta = data['theta']"
   ]
  },
  {
   "cell_type": "code",
   "execution_count": 217,
   "metadata": {},
   "outputs": [
    {
     "data": {
      "text/plain": [
       "<matplotlib.axes._subplots.AxesSubplot at 0x7f39906dcfd0>"
      ]
     },
     "execution_count": 217,
     "metadata": {},
     "output_type": "execute_result"
    },
    {
     "data": {
      "image/png": "[encoded data removed]",
      "text/plain": [
       "<Figure size 432x288 with 1 Axes>"
      ]
     },
     "metadata": {},
     "output_type": "display_data"
    }
   ],
   "source": [
    "sns.distplot(theta[:,9],kde=False)"
   ]
  },
  {
   "cell_type": "code",
   "execution_count": 118,
   "metadata": {},
   "outputs": [
    {
     "ename": "MissingInputError",
     "evalue": "Input 0 of the graph (indices start from 0), used to compute InplaceDimShuffle{1,0}(beta_stickbreaking__), was not provided and not given a value. Use the Theano flag exception_verbosity='high', for more information on this error.",
     "output_type": "error",
     "traceback": [
      "\u001b[0;31m---------------------------------------------------------------------------\u001b[0m",
      "\u001b[0;31mMissingInputError\u001b[0m                         Traceback (most recent call last)",
      "\u001b[0;32m<ipython-input-118-49f3ce625fb6>\u001b[0m in \u001b[0;36m<module>\u001b[0;34m\u001b[0m\n\u001b[0;32m----> 1\u001b[0;31m \u001b[0mmodel\u001b[0m\u001b[0;34m.\u001b[0m\u001b[0mbeta\u001b[0m\u001b[0;34m[\u001b[0m\u001b[0;36m2\u001b[0m\u001b[0;34m]\u001b[0m\u001b[0;34m.\u001b[0m\u001b[0meval\u001b[0m\u001b[0;34m(\u001b[0m\u001b[0;34m)\u001b[0m\u001b[0;34m\u001b[0m\u001b[0;34m\u001b[0m\u001b[0m\n\u001b[0m",
      "\u001b[0;32m~/code/utils/miniconda3/envs/pymc/lib/python3.7/site-packages/theano/gof/graph.py\u001b[0m in \u001b[0;36meval\u001b[0;34m(self, inputs_to_values)\u001b[0m\n\u001b[1;32m    520\u001b[0m         \u001b[0minputs\u001b[0m \u001b[0;34m=\u001b[0m \u001b[0mtuple\u001b[0m\u001b[0;34m(\u001b[0m\u001b[0msorted\u001b[0m\u001b[0;34m(\u001b[0m\u001b[0minputs_to_values\u001b[0m\u001b[0;34m.\u001b[0m\u001b[0mkeys\u001b[0m\u001b[0;34m(\u001b[0m\u001b[0;34m)\u001b[0m\u001b[0;34m,\u001b[0m \u001b[0mkey\u001b[0m\u001b[0;34m=\u001b[0m\u001b[0mid\u001b[0m\u001b[0;34m)\u001b[0m\u001b[0;34m)\u001b[0m\u001b[0;34m\u001b[0m\u001b[0;34m\u001b[0m\u001b[0m\n\u001b[1;32m    521\u001b[0m         \u001b[0;32mif\u001b[0m \u001b[0minputs\u001b[0m \u001b[0;32mnot\u001b[0m \u001b[0;32min\u001b[0m \u001b[0mself\u001b[0m\u001b[0;34m.\u001b[0m\u001b[0m_fn_cache\u001b[0m\u001b[0;34m:\u001b[0m\u001b[0;34m\u001b[0m\u001b[0;34m\u001b[0m\u001b[0m\n\u001b[0;32m--> 522\u001b[0;31m             \u001b[0mself\u001b[0m\u001b[0;34m.\u001b[0m\u001b[0m_fn_cache\u001b[0m\u001b[0;34m[\u001b[0m\u001b[0minputs\u001b[0m\u001b[0;34m]\u001b[0m \u001b[0;34m=\u001b[0m \u001b[0mtheano\u001b[0m\u001b[0;34m.\u001b[0m\u001b[0mfunction\u001b[0m\u001b[0;34m(\u001b[0m\u001b[0minputs\u001b[0m\u001b[0;34m,\u001b[0m \u001b[0mself\u001b[0m\u001b[0;34m)\u001b[0m\u001b[0;34m\u001b[0m\u001b[0;34m\u001b[0m\u001b[0m\n\u001b[0m\u001b[1;32m    523\u001b[0m         \u001b[0margs\u001b[0m \u001b[0;34m=\u001b[0m \u001b[0;34m[\u001b[0m\u001b[0minputs_to_values\u001b[0m\u001b[0;34m[\u001b[0m\u001b[0mparam\u001b[0m\u001b[0;34m]\u001b[0m \u001b[0;32mfor\u001b[0m \u001b[0mparam\u001b[0m \u001b[0;32min\u001b[0m \u001b[0minputs\u001b[0m\u001b[0;34m]\u001b[0m\u001b[0;34m\u001b[0m\u001b[0;34m\u001b[0m\u001b[0m\n\u001b[1;32m    524\u001b[0m \u001b[0;34m\u001b[0m\u001b[0m\n",
      "\u001b[0;32m~/code/utils/miniconda3/envs/pymc/lib/python3.7/site-packages/theano/compile/function.py\u001b[0m in \u001b[0;36mfunction\u001b[0;34m(inputs, outputs, mode, updates, givens, no_default_updates, accept_inplace, name, rebuild_strict, allow_input_downcast, profile, on_unused_input)\u001b[0m\n\u001b[1;32m    315\u001b[0m                    \u001b[0mon_unused_input\u001b[0m\u001b[0;34m=\u001b[0m\u001b[0mon_unused_input\u001b[0m\u001b[0;34m,\u001b[0m\u001b[0;34m\u001b[0m\u001b[0;34m\u001b[0m\u001b[0m\n\u001b[1;32m    316\u001b[0m                    \u001b[0mprofile\u001b[0m\u001b[0;34m=\u001b[0m\u001b[0mprofile\u001b[0m\u001b[0;34m,\u001b[0m\u001b[0;34m\u001b[0m\u001b[0;34m\u001b[0m\u001b[0m\n\u001b[0;32m--> 317\u001b[0;31m                    output_keys=output_keys)\n\u001b[0m\u001b[1;32m    318\u001b[0m     \u001b[0;32mreturn\u001b[0m \u001b[0mfn\u001b[0m\u001b[0;34m\u001b[0m\u001b[0;34m\u001b[0m\u001b[0m\n",
      "\u001b[0;32m~/code/utils/miniconda3/envs/pymc/lib/python3.7/site-packages/theano/compile/pfunc.py\u001b[0m in \u001b[0;36mpfunc\u001b[0;34m(params, outputs, mode, updates, givens, no_default_updates, accept_inplace, name, rebuild_strict, allow_input_downcast, profile, on_unused_input, output_keys)\u001b[0m\n\u001b[1;32m    484\u001b[0m                          \u001b[0maccept_inplace\u001b[0m\u001b[0;34m=\u001b[0m\u001b[0maccept_inplace\u001b[0m\u001b[0;34m,\u001b[0m \u001b[0mname\u001b[0m\u001b[0;34m=\u001b[0m\u001b[0mname\u001b[0m\u001b[0;34m,\u001b[0m\u001b[0;34m\u001b[0m\u001b[0;34m\u001b[0m\u001b[0m\n\u001b[1;32m    485\u001b[0m                          \u001b[0mprofile\u001b[0m\u001b[0;34m=\u001b[0m\u001b[0mprofile\u001b[0m\u001b[0;34m,\u001b[0m \u001b[0mon_unused_input\u001b[0m\u001b[0;34m=\u001b[0m\u001b[0mon_unused_input\u001b[0m\u001b[0;34m,\u001b[0m\u001b[0;34m\u001b[0m\u001b[0;34m\u001b[0m\u001b[0m\n\u001b[0;32m--> 486\u001b[0;31m                          output_keys=output_keys)\n\u001b[0m\u001b[1;32m    487\u001b[0m \u001b[0;34m\u001b[0m\u001b[0m\n\u001b[1;32m    488\u001b[0m \u001b[0;34m\u001b[0m\u001b[0m\n",
      "\u001b[0;32m~/code/utils/miniconda3/envs/pymc/lib/python3.7/site-packages/theano/compile/function_module.py\u001b[0m in \u001b[0;36morig_function\u001b[0;34m(inputs, outputs, mode, accept_inplace, name, profile, on_unused_input, output_keys)\u001b[0m\n\u001b[1;32m   1837\u001b[0m                   \u001b[0mon_unused_input\u001b[0m\u001b[0;34m=\u001b[0m\u001b[0mon_unused_input\u001b[0m\u001b[0;34m,\u001b[0m\u001b[0;34m\u001b[0m\u001b[0;34m\u001b[0m\u001b[0m\n\u001b[1;32m   1838\u001b[0m                   \u001b[0moutput_keys\u001b[0m\u001b[0;34m=\u001b[0m\u001b[0moutput_keys\u001b[0m\u001b[0;34m,\u001b[0m\u001b[0;34m\u001b[0m\u001b[0;34m\u001b[0m\u001b[0m\n\u001b[0;32m-> 1839\u001b[0;31m                   name=name)\n\u001b[0m\u001b[1;32m   1840\u001b[0m         \u001b[0;32mwith\u001b[0m \u001b[0mtheano\u001b[0m\u001b[0;34m.\u001b[0m\u001b[0mchange_flags\u001b[0m\u001b[0;34m(\u001b[0m\u001b[0mcompute_test_value\u001b[0m\u001b[0;34m=\u001b[0m\u001b[0;34m\"off\"\u001b[0m\u001b[0;34m)\u001b[0m\u001b[0;34m:\u001b[0m\u001b[0;34m\u001b[0m\u001b[0;34m\u001b[0m\u001b[0m\n\u001b[1;32m   1841\u001b[0m             \u001b[0mfn\u001b[0m \u001b[0;34m=\u001b[0m \u001b[0mm\u001b[0m\u001b[0;34m.\u001b[0m\u001b[0mcreate\u001b[0m\u001b[0;34m(\u001b[0m\u001b[0mdefaults\u001b[0m\u001b[0;34m)\u001b[0m\u001b[0;34m\u001b[0m\u001b[0;34m\u001b[0m\u001b[0m\n",
      "\u001b[0;32m~/code/utils/miniconda3/envs/pymc/lib/python3.7/site-packages/theano/compile/function_module.py\u001b[0m in \u001b[0;36m__init__\u001b[0;34m(self, inputs, outputs, mode, accept_inplace, function_builder, profile, on_unused_input, fgraph, output_keys, name)\u001b[0m\n\u001b[1;32m   1485\u001b[0m             \u001b[0;31m# OUTPUT VARIABLES)\u001b[0m\u001b[0;34m\u001b[0m\u001b[0;34m\u001b[0m\u001b[0;34m\u001b[0m\u001b[0m\n\u001b[1;32m   1486\u001b[0m             fgraph, additional_outputs = std_fgraph(inputs, outputs,\n\u001b[0;32m-> 1487\u001b[0;31m                                                     accept_inplace)\n\u001b[0m\u001b[1;32m   1488\u001b[0m             \u001b[0mfgraph\u001b[0m\u001b[0;34m.\u001b[0m\u001b[0mprofile\u001b[0m \u001b[0;34m=\u001b[0m \u001b[0mprofile\u001b[0m\u001b[0;34m\u001b[0m\u001b[0;34m\u001b[0m\u001b[0m\n\u001b[1;32m   1489\u001b[0m         \u001b[0;32melse\u001b[0m\u001b[0;34m:\u001b[0m\u001b[0;34m\u001b[0m\u001b[0;34m\u001b[0m\u001b[0m\n",
      "\u001b[0;32m~/code/utils/miniconda3/envs/pymc/lib/python3.7/site-packages/theano/compile/function_module.py\u001b[0m in \u001b[0;36mstd_fgraph\u001b[0;34m(input_specs, output_specs, accept_inplace)\u001b[0m\n\u001b[1;32m    179\u001b[0m \u001b[0;34m\u001b[0m\u001b[0m\n\u001b[1;32m    180\u001b[0m     fgraph = gof.fg.FunctionGraph(orig_inputs, orig_outputs,\n\u001b[0;32m--> 181\u001b[0;31m                                   update_mapping=update_mapping)\n\u001b[0m\u001b[1;32m    182\u001b[0m \u001b[0;34m\u001b[0m\u001b[0m\n\u001b[1;32m    183\u001b[0m     \u001b[0;32mfor\u001b[0m \u001b[0mnode\u001b[0m \u001b[0;32min\u001b[0m \u001b[0mfgraph\u001b[0m\u001b[0;34m.\u001b[0m\u001b[0mapply_nodes\u001b[0m\u001b[0;34m:\u001b[0m\u001b[0;34m\u001b[0m\u001b[0;34m\u001b[0m\u001b[0m\n",
      "\u001b[0;32m~/code/utils/miniconda3/envs/pymc/lib/python3.7/site-packages/theano/gof/fg.py\u001b[0m in \u001b[0;36m__init__\u001b[0;34m(self, inputs, outputs, features, clone, update_mapping)\u001b[0m\n\u001b[1;32m    173\u001b[0m \u001b[0;34m\u001b[0m\u001b[0m\n\u001b[1;32m    174\u001b[0m         \u001b[0;32mfor\u001b[0m \u001b[0moutput\u001b[0m \u001b[0;32min\u001b[0m \u001b[0moutputs\u001b[0m\u001b[0;34m:\u001b[0m\u001b[0;34m\u001b[0m\u001b[0;34m\u001b[0m\u001b[0m\n\u001b[0;32m--> 175\u001b[0;31m             \u001b[0mself\u001b[0m\u001b[0;34m.\u001b[0m\u001b[0m__import_r__\u001b[0m\u001b[0;34m(\u001b[0m\u001b[0moutput\u001b[0m\u001b[0;34m,\u001b[0m \u001b[0mreason\u001b[0m\u001b[0;34m=\u001b[0m\u001b[0;34m\"init\"\u001b[0m\u001b[0;34m)\u001b[0m\u001b[0;34m\u001b[0m\u001b[0;34m\u001b[0m\u001b[0m\n\u001b[0m\u001b[1;32m    176\u001b[0m         \u001b[0;32mfor\u001b[0m \u001b[0mi\u001b[0m\u001b[0;34m,\u001b[0m \u001b[0moutput\u001b[0m \u001b[0;32min\u001b[0m \u001b[0menumerate\u001b[0m\u001b[0;34m(\u001b[0m\u001b[0moutputs\u001b[0m\u001b[0;34m)\u001b[0m\u001b[0;34m:\u001b[0m\u001b[0;34m\u001b[0m\u001b[0;34m\u001b[0m\u001b[0m\n\u001b[1;32m    177\u001b[0m             \u001b[0moutput\u001b[0m\u001b[0;34m.\u001b[0m\u001b[0mclients\u001b[0m\u001b[0;34m.\u001b[0m\u001b[0mappend\u001b[0m\u001b[0;34m(\u001b[0m\u001b[0;34m(\u001b[0m\u001b[0;34m'output'\u001b[0m\u001b[0;34m,\u001b[0m \u001b[0mi\u001b[0m\u001b[0;34m)\u001b[0m\u001b[0;34m)\u001b[0m\u001b[0;34m\u001b[0m\u001b[0;34m\u001b[0m\u001b[0m\n",
      "\u001b[0;32m~/code/utils/miniconda3/envs/pymc/lib/python3.7/site-packages/theano/gof/fg.py\u001b[0m in \u001b[0;36m__import_r__\u001b[0;34m(self, variable, reason)\u001b[0m\n\u001b[1;32m    344\u001b[0m         \u001b[0;31m# Imports the owners of the variables\u001b[0m\u001b[0;34m\u001b[0m\u001b[0;34m\u001b[0m\u001b[0;34m\u001b[0m\u001b[0m\n\u001b[1;32m    345\u001b[0m         \u001b[0;32mif\u001b[0m \u001b[0mvariable\u001b[0m\u001b[0;34m.\u001b[0m\u001b[0mowner\u001b[0m \u001b[0;32mand\u001b[0m \u001b[0mvariable\u001b[0m\u001b[0;34m.\u001b[0m\u001b[0mowner\u001b[0m \u001b[0;32mnot\u001b[0m \u001b[0;32min\u001b[0m \u001b[0mself\u001b[0m\u001b[0;34m.\u001b[0m\u001b[0mapply_nodes\u001b[0m\u001b[0;34m:\u001b[0m\u001b[0;34m\u001b[0m\u001b[0;34m\u001b[0m\u001b[0m\n\u001b[0;32m--> 346\u001b[0;31m                 \u001b[0mself\u001b[0m\u001b[0;34m.\u001b[0m\u001b[0m__import__\u001b[0m\u001b[0;34m(\u001b[0m\u001b[0mvariable\u001b[0m\u001b[0;34m.\u001b[0m\u001b[0mowner\u001b[0m\u001b[0;34m,\u001b[0m \u001b[0mreason\u001b[0m\u001b[0;34m=\u001b[0m\u001b[0mreason\u001b[0m\u001b[0;34m)\u001b[0m\u001b[0;34m\u001b[0m\u001b[0;34m\u001b[0m\u001b[0m\n\u001b[0m\u001b[1;32m    347\u001b[0m         elif (variable.owner is None and\n\u001b[1;32m    348\u001b[0m                 \u001b[0;32mnot\u001b[0m \u001b[0misinstance\u001b[0m\u001b[0;34m(\u001b[0m\u001b[0mvariable\u001b[0m\u001b[0;34m,\u001b[0m \u001b[0mgraph\u001b[0m\u001b[0;34m.\u001b[0m\u001b[0mConstant\u001b[0m\u001b[0;34m)\u001b[0m \u001b[0;32mand\u001b[0m\u001b[0;34m\u001b[0m\u001b[0;34m\u001b[0m\u001b[0m\n",
      "\u001b[0;32m~/code/utils/miniconda3/envs/pymc/lib/python3.7/site-packages/theano/gof/fg.py\u001b[0m in \u001b[0;36m__import__\u001b[0;34m(self, apply_node, check, reason)\u001b[0m\n\u001b[1;32m    389\u001b[0m                                      \u001b[0;34m\"for more information on this error.\"\u001b[0m\u001b[0;34m\u001b[0m\u001b[0;34m\u001b[0m\u001b[0m\n\u001b[1;32m    390\u001b[0m                                      % (node.inputs.index(r), str(node)))\n\u001b[0;32m--> 391\u001b[0;31m                         \u001b[0;32mraise\u001b[0m \u001b[0mMissingInputError\u001b[0m\u001b[0;34m(\u001b[0m\u001b[0merror_msg\u001b[0m\u001b[0;34m,\u001b[0m \u001b[0mvariable\u001b[0m\u001b[0;34m=\u001b[0m\u001b[0mr\u001b[0m\u001b[0;34m)\u001b[0m\u001b[0;34m\u001b[0m\u001b[0;34m\u001b[0m\u001b[0m\n\u001b[0m\u001b[1;32m    392\u001b[0m \u001b[0;34m\u001b[0m\u001b[0m\n\u001b[1;32m    393\u001b[0m         \u001b[0;32mfor\u001b[0m \u001b[0mnode\u001b[0m \u001b[0;32min\u001b[0m \u001b[0mnew_nodes\u001b[0m\u001b[0;34m:\u001b[0m\u001b[0;34m\u001b[0m\u001b[0;34m\u001b[0m\u001b[0m\n",
      "\u001b[0;31mMissingInputError\u001b[0m: Input 0 of the graph (indices start from 0), used to compute InplaceDimShuffle{1,0}(beta_stickbreaking__), was not provided and not given a value. Use the Theano flag exception_verbosity='high', for more information on this error."
     ]
    }
   ],
   "source": []
  },
  {
   "cell_type": "code",
   "execution_count": null,
   "metadata": {},
   "outputs": [],
   "source": [
    "sc.pp.normalize_per_cell(adata, counts_per_cell_after=1e4)\n",
    "sc.pp.log1p(adata)\n",
    "sc.pp.highly_variable_genes(adata, n_top_genes=3000)\n",
    "sc.pp.scale(adata, max_value=10)\n",
    "sc.pp.pca(adata)\n",
    "sc.pp.neighbors(adata)\n",
    "sc.tl.umap(adata)\n",
    "sc.tl.leiden(adata)\n",
    "sc.pl.umap(adata, color=['leiden'])\n"
   ]
  },
  {
   "cell_type": "code",
   "execution_count": null,
   "metadata": {},
   "outputs": [],
   "source": [
    "η = .15\n",
    "s = shared(η)\n",
    "def reduce_rate(a, h, i):\n",
    "    s.set_value(η/((i/minibatch_size)+1)**.7)\n",
    "    \n",
    "with model:\n",
    "    approx = pm.MeanField(local_rv=local_RVs)\n",
    "    approx.scale_cost_to_minibatch = False\n",
    "    inference = pm.KLqp(approx)\n",
    "    inference.fit(400,callbacks=[reduce_rate], obj_optimizer=pm.sgd(learning_rate=s),\n",
    "              more_obj_params=encoder_params, total_grad_norm_constraint=200,\n",
    "              more_replacements={doc_t: doc_t_minibatch})"
   ]
  },
  {
   "cell_type": "code",
   "execution_count": 120,
   "metadata": {},
   "outputs": [
    {
     "name": "stdout",
     "output_type": "stream",
     "text": [
      "T\n",
      "fail T\n",
      "__abs__\n",
      "Elemwise{abs_,no_inplace}.0\n",
      "__add__\n",
      "fail __add__\n",
      "__and__\n",
      "fail __and__\n",
      "__array_priority__\n",
      "fail __array_priority__\n",
      "__bool__\n",
      "True\n",
      "__class__\n",
      "fail __class__\n",
      "__count__\n",
      "fail __count__\n",
      "__delattr__\n",
      "fail __delattr__\n",
      "__dict__\n",
      "fail __dict__\n",
      "__dir__\n",
      "['tag', 'type', 'owner', 'index', 'name', 'auto_name', 'transformation', 'model', 'distribution', 'dshape', 'dsize', 'transformed', 'scaling', 'random', '__module__', '__doc__', '__init__', '_repr_latex_', '__latex__', 'init_value', '__abs__', '__neg__', '_is_nonzero', '__lt__', '__le__', '__gt__', '__ge__', '__nonzero__', '__bool__', '__invert__', '__and__', '__or__', '__xor__', '__rand__', '__ror__', '__rxor__', '__add__', '__sub__', '__mul__', '__div__', '__truediv__', '__pow__', '__mod__', '__divmod__', '__floordiv__', '__rtruediv__', '__rfloordiv__', '__radd__', '__rsub__', '__rmul__', '__rdiv__', '__rmod__', '__rdivmod__', '__rpow__', 'T', 'transpose', 'shape', 'size', 'any', 'all', 'reshape', 'dimshuffle', 'flatten', 'ravel', 'diagonal', 'transfer', 'arccos', 'arccosh', 'arcsin', 'arcsinh', 'arctan', 'arctanh', 'ceil', 'cos', 'cosh', 'deg2rad', 'exp', 'exp2', 'expm1', 'floor', 'log', 'log10', 'log1p', 'log2', 'rad2deg', 'sin', 'sinh', 'sqrt', 'tan', 'tanh', 'trunc', 'astype', '__getitem__', 'take', 'copy', '__iter__', 'ndim', 'broadcastable', 'dtype', '__dot__', '__rdot__', 'dot', 'sum', 'prod', 'norm', 'mean', 'var', 'std', 'min', 'max', 'argmin', 'argmax', 'nonzero', 'nonzero_values', 'sort', 'argsort', 'clip', 'conj', 'conjugate', 'repeat', 'round', 'trace', '__array_priority__', 'get_scalar_constant_value', 'zeros_like', 'ones_like', 'cumsum', 'cumprod', 'searchsorted', 'ptp', 'swapaxes', 'fill', 'choose', 'squeeze', 'compress', '__dict__', '__weakref__', 'real', 'imag', '__repr__', '__hash__', '__str__', '__getattribute__', '__setattr__', '__delattr__', '__eq__', '__ne__', '__new__', '__reduce_ex__', '__reduce__', '__subclasshook__', '__init_subclass__', '__format__', '__sizeof__', '__dir__', '__class__', '__count__', '__repr_test_value__', 'clone', 'get_parents', 'eval', '__getstate__', 'construction_observers', 'append_construction_observer', 'remove_construction_observer', 'notify_construction_observers', '__slots__']\n",
      "__div__\n",
      "fail __div__\n",
      "__divmod__\n",
      "fail __divmod__\n",
      "__doc__\n",
      "fail __doc__\n",
      "__dot__\n",
      "fail __dot__\n",
      "__eq__\n",
      "fail __eq__\n",
      "__floordiv__\n",
      "fail __floordiv__\n",
      "__format__\n",
      "fail __format__\n",
      "__ge__\n",
      "fail __ge__\n",
      "__getattribute__\n",
      "fail __getattribute__\n",
      "__getitem__\n",
      "fail __getitem__\n",
      "__getstate__\n",
      "{'tag': scratchpad{'test_value': array([[1.00000000e-09, 9.99999999e-10, 9.99999998e-10, ...,\n",
      "        9.99999993e-10, 9.99999992e-10, 9.99999991e-01],\n",
      "       [1.00000000e-09, 9.99999999e-10, 9.99999998e-10, ...,\n",
      "        9.99999993e-10, 9.99999992e-10, 9.99999991e-01],\n",
      "       [1.00000000e-09, 9.99999999e-10, 9.99999998e-10, ...,\n",
      "        9.99999993e-10, 9.99999992e-10, 9.99999991e-01],\n",
      "       ...,\n",
      "       [1.00000000e-09, 9.99999999e-10, 9.99999998e-10, ...,\n",
      "        9.99999993e-10, 9.99999992e-10, 9.99999991e-01],\n",
      "       [1.00000000e-09, 9.99999999e-10, 9.99999998e-10, ...,\n",
      "        9.99999993e-10, 9.99999992e-10, 9.99999991e-01],\n",
      "       [1.00000000e-09, 9.99999999e-10, 9.99999998e-10, ...,\n",
      "        9.99999993e-10, 9.99999992e-10, 9.99999991e-01]])}, 'type': TensorType(float64, matrix), 'owner': ViewOp(InplaceDimShuffle{1,0}.0), 'index': 0, 'name': 'theta', 'auto_name': 'auto_382848', 'transformation': <pymc3.distributions.transforms.StickBreaking object at 0x7f398112a278>, 'model': <pymc3.model.Model object at 0x7f398112a128>, 'distribution': <pymc3.distributions.multivariate.Dirichlet object at 0x7f398112ad68>, 'dshape': (10000, 10), 'dsize': 100000, 'transformed': theta_stickbreaking__, 'scaling': Elemwise{true_div,no_inplace}.0, 'random': <pymc3.model.InstanceMethod object at 0x7f399aebdcc0>}\n",
      "__gt__\n",
      "fail __gt__\n",
      "__hash__\n",
      "8742809709071\n",
      "__init__\n",
      "fail __init__\n",
      "__init_subclass__\n",
      "None\n",
      "__invert__\n",
      "fail __invert__\n",
      "__iter__\n",
      "<generator object _tensor_py_operators.__iter__ at 0x7f399d167138>\n",
      "__latex__\n",
      "$theta \\sim \\text{Dirichlet}(\\mathit{a}=array)$\n",
      "__le__\n",
      "fail __le__\n",
      "__lt__\n",
      "fail __lt__\n",
      "__mod__\n",
      "fail __mod__\n",
      "__module__\n",
      "fail __module__\n",
      "__mul__\n",
      "fail __mul__\n",
      "__ne__\n",
      "fail __ne__\n",
      "__neg__\n",
      "Elemwise{neg,no_inplace}.0\n",
      "__new__\n",
      "fail __new__\n",
      "__nonzero__\n",
      "True\n",
      "__or__\n",
      "fail __or__\n",
      "__pow__\n",
      "fail __pow__\n",
      "__radd__\n",
      "fail __radd__\n",
      "__rand__\n",
      "fail __rand__\n",
      "__rdiv__\n",
      "fail __rdiv__\n",
      "__rdivmod__\n",
      "fail __rdivmod__\n",
      "__rdot__\n",
      "fail __rdot__\n",
      "__reduce__\n",
      "(<function _reconstructor at 0x7f39e9f978c8>, (<class 'pymc3.model.TransformedRV'>, <class 'object'>, None), {'tag': scratchpad{'test_value': array([[1.00000000e-09, 9.99999999e-10, 9.99999998e-10, ...,\n",
      "        9.99999993e-10, 9.99999992e-10, 9.99999991e-01],\n",
      "       [1.00000000e-09, 9.99999999e-10, 9.99999998e-10, ...,\n",
      "        9.99999993e-10, 9.99999992e-10, 9.99999991e-01],\n",
      "       [1.00000000e-09, 9.99999999e-10, 9.99999998e-10, ...,\n",
      "        9.99999993e-10, 9.99999992e-10, 9.99999991e-01],\n",
      "       ...,\n",
      "       [1.00000000e-09, 9.99999999e-10, 9.99999998e-10, ...,\n",
      "        9.99999993e-10, 9.99999992e-10, 9.99999991e-01],\n",
      "       [1.00000000e-09, 9.99999999e-10, 9.99999998e-10, ...,\n",
      "        9.99999993e-10, 9.99999992e-10, 9.99999991e-01],\n",
      "       [1.00000000e-09, 9.99999999e-10, 9.99999998e-10, ...,\n",
      "        9.99999993e-10, 9.99999992e-10, 9.99999991e-01]])}, 'type': TensorType(float64, matrix), 'owner': ViewOp(InplaceDimShuffle{1,0}.0), 'index': 0, 'name': 'theta', 'auto_name': 'auto_382848', 'transformation': <pymc3.distributions.transforms.StickBreaking object at 0x7f398112a278>, 'model': <pymc3.model.Model object at 0x7f398112a128>, 'distribution': <pymc3.distributions.multivariate.Dirichlet object at 0x7f398112ad68>, 'dshape': (10000, 10), 'dsize': 100000, 'transformed': theta_stickbreaking__, 'scaling': Elemwise{true_div,no_inplace}.0, 'random': <pymc3.model.InstanceMethod object at 0x7f399aebdcc0>})\n",
      "__reduce_ex__\n",
      "fail __reduce_ex__\n",
      "__repr__\n",
      "theta\n",
      "__repr_test_value__\n",
      "array([[1.00000000e-09, 9.99999999e-10, 9.99999998e-10, ...,\n",
      "        9.99999993e-10, 9.99999992e-10, 9.99999991e-01],\n",
      "       [1.00000000e-09, 9.99999999e-10, 9.99999998e-10, ...,\n",
      "        9.99999993e-10, 9.99999992e-10, 9.99999991e-01],\n",
      "       [1.00000000e-09, 9.99999999e-10, 9.99999998e-10, ...,\n",
      "        9.99999993e-10, 9.99999992e-10, 9.99999991e-01],\n",
      "       ...,\n",
      "       [1.00000000e-09, 9.99999999e-10, 9.99999998e-10, ...,\n",
      "        9.99999993e-10, 9.99999992e-10, 9.99999991e-01],\n",
      "       [1.00000000e-09, 9.99999999e-10, 9.99999998e-10, ...,\n",
      "        9.99999993e-10, 9.99999992e-10, 9.99999991e-01],\n",
      "       [1.00000000e-09, 9.99999999e-10, 9.99999998e-10, ...,\n",
      "        9.99999993e-10, 9.99999992e-10, 9.99999991e-01]])\n",
      "__rfloordiv__\n",
      "fail __rfloordiv__\n",
      "__rmod__\n",
      "fail __rmod__\n",
      "__rmul__\n",
      "fail __rmul__\n",
      "__ror__\n",
      "fail __ror__\n",
      "__rpow__\n",
      "fail __rpow__\n",
      "__rsub__\n",
      "fail __rsub__\n",
      "__rtruediv__\n",
      "fail __rtruediv__\n",
      "__rxor__\n",
      "fail __rxor__\n",
      "__setattr__\n",
      "fail __setattr__\n",
      "__sizeof__\n",
      "32\n",
      "__slots__\n",
      "fail __slots__\n",
      "__str__\n",
      "theta\n",
      "__sub__\n",
      "fail __sub__\n",
      "__subclasshook__\n",
      "NotImplemented\n",
      "__truediv__\n",
      "fail __truediv__\n",
      "__weakref__\n",
      "fail __weakref__\n",
      "__xor__\n",
      "fail __xor__\n",
      "_is_nonzero\n",
      "fail _is_nonzero\n",
      "_repr_latex_\n",
      "$theta \\sim \\text{Dirichlet}(\\mathit{a}=array)$\n",
      "all\n",
      "All.0\n",
      "any\n",
      "Any.0\n",
      "append_construction_observer\n",
      "fail append_construction_observer\n",
      "arccos\n",
      "Elemwise{arccos,no_inplace}.0\n",
      "arccosh\n",
      "Elemwise{arccosh,no_inplace}.0\n",
      "arcsin\n",
      "Elemwise{arcsin,no_inplace}.0\n",
      "arcsinh\n",
      "Elemwise{arcsinh,no_inplace}.0\n",
      "arctan\n",
      "Elemwise{arctan,no_inplace}.0\n",
      "arctanh\n",
      "Elemwise{arctanh,no_inplace}.0\n",
      "argmax\n",
      "argmax\n",
      "argmin\n",
      "argmax\n",
      "argsort\n",
      "ArgSortOp{quicksort, None}.0\n",
      "astype\n",
      "fail astype\n",
      "auto_name\n",
      "fail auto_name\n",
      "broadcastable\n",
      "fail broadcastable\n",
      "ceil\n",
      "Elemwise{ceil,no_inplace}.0\n",
      "choose\n",
      "fail choose\n",
      "clip\n",
      "fail clip\n",
      "clone\n",
      "theta\n",
      "compress\n",
      "fail compress\n",
      "conj\n",
      "Elemwise{conj,no_inplace}.0\n",
      "conjugate\n",
      "Elemwise{conj,no_inplace}.0\n",
      "construction_observers\n",
      "fail construction_observers\n",
      "copy\n",
      "Elemwise{identity}.0\n",
      "cos\n",
      "Elemwise{cos,no_inplace}.0\n",
      "cosh\n",
      "Elemwise{cosh,no_inplace}.0\n",
      "cumprod\n",
      "CumOp{None, mul}.0\n",
      "cumsum\n",
      "CumOp{None, add}.0\n",
      "deg2rad\n",
      "Elemwise{deg2rad,no_inplace}.0\n",
      "diagonal\n",
      "ExtractDiag{offset=0, axis1=0, axis2=1, view=False}.0\n",
      "dimshuffle\n",
      "fail dimshuffle\n",
      "distribution\n",
      "fail distribution\n",
      "dot\n",
      "fail dot\n",
      "dshape\n",
      "fail dshape\n",
      "dsize\n",
      "fail dsize\n",
      "dtype\n",
      "fail dtype\n",
      "eval\n",
      "fail eval\n",
      "exp\n",
      "Elemwise{exp,no_inplace}.0\n",
      "exp2\n",
      "Elemwise{exp2,no_inplace}.0\n",
      "expm1\n",
      "Elemwise{expm1,no_inplace}.0\n",
      "fill\n",
      "fail fill\n",
      "flatten\n",
      "Reshape{1}.0\n",
      "floor\n",
      "Elemwise{floor,no_inplace}.0\n",
      "get_parents\n",
      "[ViewOp(InplaceDimShuffle{1,0}.0)]\n",
      "get_scalar_constant_value\n",
      "fail get_scalar_constant_value\n",
      "imag\n",
      "fail imag\n",
      "index\n",
      "fail index\n",
      "init_value\n",
      "fail init_value\n",
      "log\n",
      "Elemwise{log,no_inplace}.0\n",
      "log10\n",
      "Elemwise{log10,no_inplace}.0\n",
      "log1p\n",
      "Elemwise{log1p,no_inplace}.0\n",
      "log2\n",
      "Elemwise{log2,no_inplace}.0\n",
      "max\n",
      "max\n",
      "mean\n",
      "mean\n",
      "min\n",
      "Elemwise{neg,no_inplace}.0\n",
      "model\n",
      "fail model\n",
      "name\n",
      "fail name\n",
      "ndim\n",
      "fail ndim\n",
      "nonzero\n",
      "(Subtensor{int64}.0, Subtensor{int64}.0)\n",
      "nonzero_values\n",
      "AdvancedSubtensor1.0\n",
      "norm\n",
      "fail norm\n",
      "notify_construction_observers\n",
      "fail notify_construction_observers\n",
      "ones_like\n",
      "Elemwise{second,no_inplace}.0\n",
      "owner\n",
      "fail owner\n",
      "prod\n",
      "Prod{axis=None, dtype='float64', acc_dtype='float64'}.0\n",
      "ptp\n",
      "Elemwise{sub,no_inplace}.0\n",
      "rad2deg\n",
      "Elemwise{rad2deg,no_inplace}.0\n",
      "random\n",
      "[[0. 0. 0. ... 0. 0. 1.]\n",
      " [0. 0. 0. ... 0. 0. 1.]\n",
      " [0. 0. 0. ... 0. 0. 1.]\n",
      " ...\n",
      " [0. 0. 0. ... 0. 0. 1.]\n",
      " [0. 0. 0. ... 0. 0. 1.]\n",
      " [0. 0. 0. ... 0. 0. 1.]]\n",
      "ravel\n",
      "Reshape{1}.0\n",
      "real\n",
      "fail real\n",
      "remove_construction_observer\n",
      "fail remove_construction_observer\n",
      "repeat\n",
      "fail repeat\n",
      "reshape\n",
      "fail reshape\n",
      "round\n",
      "Elemwise{round_half_to_even,no_inplace}.0\n",
      "scaling\n",
      "fail scaling\n",
      "searchsorted\n",
      "fail searchsorted\n",
      "shape\n",
      "fail shape\n",
      "sin\n",
      "Elemwise{sin,no_inplace}.0\n",
      "sinh\n"
     ]
    },
    {
     "name": "stdout",
     "output_type": "stream",
     "text": [
      "Elemwise{sinh,no_inplace}.0\n",
      "size\n",
      "fail size\n",
      "sort\n",
      "SortOp{quicksort, None}.0\n",
      "sqrt\n",
      "Elemwise{sqrt,no_inplace}.0\n",
      "squeeze\n",
      "InplaceDimShuffle{0,1}.0\n",
      "std\n",
      "std\n",
      "sum\n",
      "Sum{acc_dtype=float64}.0\n",
      "swapaxes\n",
      "fail swapaxes\n",
      "tag\n",
      "fail tag\n",
      "take\n",
      "fail take\n",
      "tan\n",
      "Elemwise{tan,no_inplace}.0\n",
      "tanh\n",
      "Elemwise{tanh,no_inplace}.0\n",
      "trace\n",
      "Sum{acc_dtype=float64}.0\n",
      "transfer\n",
      "fail transfer\n",
      "transformation\n",
      "fail transformation\n",
      "transformed\n",
      "fail transformed\n",
      "transpose\n",
      "theta.T\n",
      "trunc\n",
      "Elemwise{trunc,no_inplace}.0\n",
      "type\n",
      "<TensorType(float64, matrix)>\n",
      "var\n",
      "var\n",
      "zeros_like\n",
      "Elemwise{second,no_inplace}.0\n"
     ]
    }
   ],
   "source": [
    "dir(model.theta)\n",
    "\n",
    "for f in dir(model.theta):\n",
    "    try:\n",
    "        print(f)\n",
    "        print(getattr(model.theta, f)())\n",
    "    except:\n",
    "        print('fail',f)"
   ]
  },
  {
   "cell_type": "code",
   "execution_count": 170,
   "metadata": {},
   "outputs": [
    {
     "ename": "TypeError",
     "evalue": "string indices must be integers",
     "output_type": "error",
     "traceback": [
      "\u001b[0;31m---------------------------------------------------------------------------\u001b[0m",
      "\u001b[0;31mTypeError\u001b[0m                                 Traceback (most recent call last)",
      "\u001b[0;32m<ipython-input-170-fd1c5d5a4b89>\u001b[0m in \u001b[0;36m<module>\u001b[0;34m\u001b[0m\n\u001b[0;32m----> 1\u001b[0;31m \u001b[0mmodel\u001b[0m\u001b[0;34m.\u001b[0m\u001b[0mdict_to_array\u001b[0m\u001b[0;34m(\u001b[0m\u001b[0;34m'theta'\u001b[0m\u001b[0;34m)\u001b[0m\u001b[0;34m\u001b[0m\u001b[0;34m\u001b[0m\u001b[0m\n\u001b[0m",
      "\u001b[0;32m~/code/utils/miniconda3/envs/pymc/lib/python3.7/site-packages/pymc3/blocking.py\u001b[0m in \u001b[0;36mmap\u001b[0;34m(self, dpt)\u001b[0m\n\u001b[1;32m     73\u001b[0m         \u001b[0mapt\u001b[0m \u001b[0;34m=\u001b[0m \u001b[0mnp\u001b[0m\u001b[0;34m.\u001b[0m\u001b[0mempty\u001b[0m\u001b[0;34m(\u001b[0m\u001b[0mself\u001b[0m\u001b[0;34m.\u001b[0m\u001b[0mordering\u001b[0m\u001b[0;34m.\u001b[0m\u001b[0msize\u001b[0m\u001b[0;34m,\u001b[0m \u001b[0mdtype\u001b[0m\u001b[0;34m=\u001b[0m\u001b[0mself\u001b[0m\u001b[0;34m.\u001b[0m\u001b[0marray_dtype\u001b[0m\u001b[0;34m)\u001b[0m\u001b[0;34m\u001b[0m\u001b[0;34m\u001b[0m\u001b[0m\n\u001b[1;32m     74\u001b[0m         \u001b[0;32mfor\u001b[0m \u001b[0mvar\u001b[0m\u001b[0;34m,\u001b[0m \u001b[0mslc\u001b[0m\u001b[0;34m,\u001b[0m \u001b[0m_\u001b[0m\u001b[0;34m,\u001b[0m \u001b[0m_\u001b[0m \u001b[0;32min\u001b[0m \u001b[0mself\u001b[0m\u001b[0;34m.\u001b[0m\u001b[0mordering\u001b[0m\u001b[0;34m.\u001b[0m\u001b[0mvmap\u001b[0m\u001b[0;34m:\u001b[0m\u001b[0;34m\u001b[0m\u001b[0;34m\u001b[0m\u001b[0m\n\u001b[0;32m---> 75\u001b[0;31m             \u001b[0mapt\u001b[0m\u001b[0;34m[\u001b[0m\u001b[0mslc\u001b[0m\u001b[0;34m]\u001b[0m \u001b[0;34m=\u001b[0m \u001b[0mdpt\u001b[0m\u001b[0;34m[\u001b[0m\u001b[0mvar\u001b[0m\u001b[0;34m]\u001b[0m\u001b[0;34m.\u001b[0m\u001b[0mravel\u001b[0m\u001b[0;34m(\u001b[0m\u001b[0;34m)\u001b[0m\u001b[0;34m\u001b[0m\u001b[0;34m\u001b[0m\u001b[0m\n\u001b[0m\u001b[1;32m     76\u001b[0m         \u001b[0;32mreturn\u001b[0m \u001b[0mapt\u001b[0m\u001b[0;34m\u001b[0m\u001b[0;34m\u001b[0m\u001b[0m\n\u001b[1;32m     77\u001b[0m \u001b[0;34m\u001b[0m\u001b[0m\n",
      "\u001b[0;31mTypeError\u001b[0m: string indices must be integers"
     ]
    }
   ],
   "source": []
  },
  {
   "cell_type": "code",
   "execution_count": 102,
   "metadata": {},
   "outputs": [
    {
     "ename": "NameError",
     "evalue": "name 'd' is not defined",
     "output_type": "error",
     "traceback": [
      "\u001b[0;31m---------------------------------------------------------------------------\u001b[0m",
      "\u001b[0;31mNameError\u001b[0m                                 Traceback (most recent call last)",
      "\u001b[0;32m<ipython-input-102-1d790f327617>\u001b[0m in \u001b[0;36m<module>\u001b[0;34m\u001b[0m\n\u001b[0;32m----> 1\u001b[0;31m \u001b[0madvi_fit\u001b[0m\u001b[0;34m.\u001b[0m\u001b[0mget_param_spec_for\u001b[0m\u001b[0;34m(\u001b[0m\u001b[0;34m)\u001b[0m\u001b[0;34m\u001b[0m\u001b[0;34m\u001b[0m\u001b[0m\n\u001b[0m",
      "\u001b[0;32m~/code/utils/miniconda3/envs/pymc/lib/python3.7/site-packages/pymc3/variational/opvi.py\u001b[0m in \u001b[0;36mget_param_spec_for\u001b[0;34m(cls, **kwargs)\u001b[0m\n\u001b[1;32m    805\u001b[0m         \u001b[0mres\u001b[0m \u001b[0;34m=\u001b[0m \u001b[0mdict\u001b[0m\u001b[0;34m(\u001b[0m\u001b[0;34m)\u001b[0m\u001b[0;34m\u001b[0m\u001b[0;34m\u001b[0m\u001b[0m\n\u001b[1;32m    806\u001b[0m         \u001b[0;32mfor\u001b[0m \u001b[0mname\u001b[0m\u001b[0;34m,\u001b[0m \u001b[0mfshape\u001b[0m \u001b[0;32min\u001b[0m \u001b[0mcls\u001b[0m\u001b[0;34m.\u001b[0m\u001b[0m__param_spec__\u001b[0m\u001b[0;34m.\u001b[0m\u001b[0mitems\u001b[0m\u001b[0;34m(\u001b[0m\u001b[0;34m)\u001b[0m\u001b[0;34m:\u001b[0m\u001b[0;34m\u001b[0m\u001b[0;34m\u001b[0m\u001b[0m\n\u001b[0;32m--> 807\u001b[0;31m             \u001b[0mres\u001b[0m\u001b[0;34m[\u001b[0m\u001b[0mname\u001b[0m\u001b[0;34m]\u001b[0m \u001b[0;34m=\u001b[0m \u001b[0mtuple\u001b[0m\u001b[0;34m(\u001b[0m\u001b[0meval\u001b[0m\u001b[0;34m(\u001b[0m\u001b[0ms\u001b[0m\u001b[0;34m,\u001b[0m \u001b[0mkwargs\u001b[0m\u001b[0;34m)\u001b[0m \u001b[0;32mfor\u001b[0m \u001b[0ms\u001b[0m \u001b[0;32min\u001b[0m \u001b[0mfshape\u001b[0m\u001b[0;34m)\u001b[0m\u001b[0;34m\u001b[0m\u001b[0;34m\u001b[0m\u001b[0m\n\u001b[0m\u001b[1;32m    808\u001b[0m         \u001b[0;32mreturn\u001b[0m \u001b[0mres\u001b[0m\u001b[0;34m\u001b[0m\u001b[0;34m\u001b[0m\u001b[0m\n\u001b[1;32m    809\u001b[0m \u001b[0;34m\u001b[0m\u001b[0m\n",
      "\u001b[0;32m~/code/utils/miniconda3/envs/pymc/lib/python3.7/site-packages/pymc3/variational/opvi.py\u001b[0m in \u001b[0;36m<genexpr>\u001b[0;34m(.0)\u001b[0m\n\u001b[1;32m    805\u001b[0m         \u001b[0mres\u001b[0m \u001b[0;34m=\u001b[0m \u001b[0mdict\u001b[0m\u001b[0;34m(\u001b[0m\u001b[0;34m)\u001b[0m\u001b[0;34m\u001b[0m\u001b[0;34m\u001b[0m\u001b[0m\n\u001b[1;32m    806\u001b[0m         \u001b[0;32mfor\u001b[0m \u001b[0mname\u001b[0m\u001b[0;34m,\u001b[0m \u001b[0mfshape\u001b[0m \u001b[0;32min\u001b[0m \u001b[0mcls\u001b[0m\u001b[0;34m.\u001b[0m\u001b[0m__param_spec__\u001b[0m\u001b[0;34m.\u001b[0m\u001b[0mitems\u001b[0m\u001b[0;34m(\u001b[0m\u001b[0;34m)\u001b[0m\u001b[0;34m:\u001b[0m\u001b[0;34m\u001b[0m\u001b[0;34m\u001b[0m\u001b[0m\n\u001b[0;32m--> 807\u001b[0;31m             \u001b[0mres\u001b[0m\u001b[0;34m[\u001b[0m\u001b[0mname\u001b[0m\u001b[0;34m]\u001b[0m \u001b[0;34m=\u001b[0m \u001b[0mtuple\u001b[0m\u001b[0;34m(\u001b[0m\u001b[0meval\u001b[0m\u001b[0;34m(\u001b[0m\u001b[0ms\u001b[0m\u001b[0;34m,\u001b[0m \u001b[0mkwargs\u001b[0m\u001b[0;34m)\u001b[0m \u001b[0;32mfor\u001b[0m \u001b[0ms\u001b[0m \u001b[0;32min\u001b[0m \u001b[0mfshape\u001b[0m\u001b[0;34m)\u001b[0m\u001b[0;34m\u001b[0m\u001b[0;34m\u001b[0m\u001b[0m\n\u001b[0m\u001b[1;32m    808\u001b[0m         \u001b[0;32mreturn\u001b[0m \u001b[0mres\u001b[0m\u001b[0;34m\u001b[0m\u001b[0;34m\u001b[0m\u001b[0m\n\u001b[1;32m    809\u001b[0m \u001b[0;34m\u001b[0m\u001b[0m\n",
      "\u001b[0;32m<string>\u001b[0m in \u001b[0;36m<module>\u001b[0;34m\u001b[0m\n",
      "\u001b[0;31mNameError\u001b[0m: name 'd' is not defined"
     ]
    }
   ],
   "source": [
    "advi_fit."
   ]
  },
  {
   "cell_type": "code",
   "execution_count": null,
   "metadata": {},
   "outputs": [],
   "source": [
    "model.theta.random()"
   ]
  },
  {
   "cell_type": "code",
   "execution_count": null,
   "metadata": {},
   "outputs": [],
   "source": [
    "def print_top_words(beta, feature_names, n_top_words=10):\n",
    "    for i in range(len(beta)):\n",
    "        print((\"Topic #%d: \" % i) + \" \".join([feature_names[j]\n",
    "            for j in beta[i].argsort()[:-n_top_words - 1:-1]]))\n",
    "\n",
    "\n",
    "samples = pm.sample_approx(approx, draws=100)\n",
    "beta_pymc3 = samples['beta'].mean(axis=0)\n",
    "\n",
    "print_top_words(beta_pymc3, feature_names)"
   ]
  },
  {
   "cell_type": "code",
   "execution_count": null,
   "metadata": {},
   "outputs": [],
   "source": [
    "sns.distplot(samples['theta'].mean(axis=0)[:,9],kde=False,bins=20)"
   ]
  },
  {
   "cell_type": "code",
   "execution_count": null,
   "metadata": {},
   "outputs": [],
   "source": [
    "samples['theta'].mean(axis=0).shape"
   ]
  },
  {
   "cell_type": "code",
   "execution_count": null,
   "metadata": {},
   "outputs": [],
   "source": [
    "encoder.get_params()"
   ]
  },
  {
   "cell_type": "code",
   "execution_count": null,
   "metadata": {},
   "outputs": [],
   "source": []
  },
  {
   "cell_type": "code",
   "execution_count": null,
   "metadata": {},
   "outputs": [],
   "source": []
  }
 ],
 "metadata": {
  "kernelspec": {
   "display_name": "Python 3",
   "language": "python",
   "name": "python3"
  },
  "language_info": {
   "codemirror_mode": {
    "name": "ipython",
    "version": 3
   },
   "file_extension": ".py",
   "mimetype": "text/x-python",
   "name": "python",
   "nbconvert_exporter": "python",
   "pygments_lexer": "ipython3",
   "version": "3.7.3"
  }
 },
 "nbformat": 4,
 "nbformat_minor": 2
}
