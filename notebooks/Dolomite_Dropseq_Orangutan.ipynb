{
 "cells": [
  {
   "cell_type": "code",
   "execution_count": 1,
   "metadata": {},
   "outputs": [
    {
     "name": "stderr",
     "output_type": "stream",
     "text": [
      "/home/mt/code/utils/miniconda3/lib/python3.6/importlib/_bootstrap.py:205: RuntimeWarning: numpy.dtype size changed, may indicate binary incompatibility. Expected 96, got 88\n",
      "  return f(*args, **kwds)\n",
      "/home/mt/code/utils/miniconda3/lib/python3.6/importlib/_bootstrap.py:205: RuntimeWarning: numpy.dtype size changed, may indicate binary incompatibility. Expected 96, got 88\n",
      "  return f(*args, **kwds)\n"
     ]
    }
   ],
   "source": [
    "from collections import Counter\n",
    "import scanpy.api  as sc\n",
    "import numpy as np\n",
    "import pandas as pd\n",
    "import anndata\n",
    "%matplotlib inline"
   ]
  },
  {
   "cell_type": "code",
   "execution_count": 2,
   "metadata": {},
   "outputs": [
    {
     "name": "stdout",
     "output_type": "stream",
     "text": [
      "Observation names are not unique. To make them unique, call `.obs_names_make_unique`.\n",
      "Or pass `index_unique!=None` to `.concatenate`.\n"
     ]
    },
    {
     "data": {
      "text/plain": [
       "[('GGCGGTTCGAAA', 2),\n",
       " ('TTGTACTGGGCG', 2),\n",
       " ('AGCCGTATTAGA', 2),\n",
       " ('TTCCTACTAGAA', 2),\n",
       " ('TAGCAGTCATAC', 2),\n",
       " ('GGCAGACCAGTA', 2),\n",
       " ('CCCAGCCTTTTT', 2),\n",
       " ('GTATTTGCTTGG', 2),\n",
       " ('GCGGTGGGGTCG', 2),\n",
       " ('CCATGTTTAGAT', 2)]"
      ]
     },
     "execution_count": 2,
     "metadata": {},
     "output_type": "execute_result"
    }
   ],
   "source": [
    "\n",
    "f = sc.read(\"/home/mt/Downloads/Orang/summary/Orangutan_S3_L001_umi_expression_matrix.tsv\").transpose()\n",
    "g = sc.read(\"/home/mt/Downloads/Orang/summary/Orangutan_S3_L002_umi_expression_matrix.tsv\").transpose()\n",
    "c = f.concatenate(g,index_unique=None)\n",
    "\n",
    "len(c.obs_names)\n",
    "len(set(c.obs_names))\n",
    "\n",
    "cc = Counter(c.obs_names)\n",
    "cc.most_common(10)\n",
    "\n"
   ]
  },
  {
   "cell_type": "code",
   "execution_count": 3,
   "metadata": {},
   "outputs": [
    {
     "data": {
      "text/plain": [
       "[('GGCGGTTCGAAA', 2),\n",
       " ('TTGTACTGGGCG', 2),\n",
       " ('AGCCGTATTAGA', 2),\n",
       " ('TTCCTACTAGAA', 2),\n",
       " ('TAGCAGTCATAC', 2),\n",
       " ('GGCAGACCAGTA', 2),\n",
       " ('CCCAGCCTTTTT', 2),\n",
       " ('GTATTTGCTTGG', 2),\n",
       " ('GCGGTGGGGTCG', 2),\n",
       " ('CCATGTTTAGAT', 2)]"
      ]
     },
     "execution_count": 3,
     "metadata": {},
     "output_type": "execute_result"
    }
   ],
   "source": [
    "cc.most_common(10)"
   ]
  },
  {
   "cell_type": "code",
   "execution_count": null,
   "metadata": {},
   "outputs": [],
   "source": [
    "X=[]\n",
    "for u in set(c.obs_names):\n",
    "    X.append(c.X[c.obs_names==u,:].sum(axis=0))\n",
    "X=np.array(X)"
   ]
  },
  {
   "cell_type": "code",
   "execution_count": null,
   "metadata": {},
   "outputs": [],
   "source": [
    "adata = anndata.AnnData(X= X,var = pd.DataFrame(index=c.var_names),obs=pd.DataFrame(index=list(set(c.obs_names))))"
   ]
  },
  {
   "cell_type": "code",
   "execution_count": null,
   "metadata": {},
   "outputs": [],
   "source": [
    "sc.pp.filter_cells(adata, min_genes=30)\n",
    "sc.pp.filter_genes(adata, min_cells=10)\n",
    "print(adata.shape)"
   ]
  },
  {
   "cell_type": "code",
   "execution_count": null,
   "metadata": {},
   "outputs": [],
   "source": [
    "mito_genes = [name for name in adata.var_names if name.startswith('MT-')]\n",
    "ribo_genes = [name for name in adata.var_names if name.startswith('RPS') or name.startswith('RPL') ]\n",
    "\n",
    "# for each cell compute fraction of counts in mito genes vs. all genes\n",
    "# the `.A1` is only necessary, as X is sparse - it transform to a dense array after summing\n",
    "adata.obs['percent_mito'] = np.sum(\n",
    "    adata[:, mito_genes].X, axis=1) / np.sum(adata.X, axis=1)\n",
    "adata.obs['percent_ribo'] = np.sum(\n",
    "    adata[:, ribo_genes].X, axis=1) / np.sum(adata.X, axis=1)\n",
    "# add the total counts per cell as observations-annotation to adata\n",
    "adata.obs['n_counts'] = adata.X.sum(axis=1)"
   ]
  },
  {
   "cell_type": "code",
   "execution_count": null,
   "metadata": {},
   "outputs": [],
   "source": [
    "adata.obs"
   ]
  },
  {
   "cell_type": "code",
   "execution_count": null,
   "metadata": {
    "scrolled": true
   },
   "outputs": [],
   "source": [
    "sc.pl.violin(adata, ['n_genes', 'n_counts', 'percent_mito','percent_ribo'],\n",
    "             jitter=0.4, multi_panel=True)\n",
    "sc.pl.scatter(adata, x='n_counts', y='percent_mito')\n",
    "sc.pl.scatter(adata, x='n_counts', y='n_genes')"
   ]
  },
  {
   "cell_type": "code",
   "execution_count": null,
   "metadata": {},
   "outputs": [],
   "source": [
    "from umi_tools import umi_methods\n",
    "import matplotlib\n",
    "from matplotlib import pyplot as plt\n",
    "from collections import Counter\n",
    "cell_barcode_counts=Counter(adata.obs.n_counts.to_dict())\n",
    "#d=umi_tools.umi_methods.getKneeEstimate(Counter(adata.obs.n_counts.to_dict()),expect_cells=15000,plotfile_prefix='KneeOrganoid')\n",
    "\n",
    "import matplotlib.lines as mlines\n",
    "from functools import partial\n",
    "from scipy.signal import argrelextrema\n",
    "from scipy.stats import gaussian_kde\n",
    "import umi_tools.Utilities as U\n",
    "\n",
    "threshold = 0.001 * cell_barcode_counts.most_common(1)[0][1]\n",
    "\n",
    "counts = sorted(cell_barcode_counts.values(), reverse=True)\n",
    "counts_thresh = [x for x in counts if x > threshold]\n",
    "log_counts = np.log10(counts_thresh)\n",
    "print(threshold)\n",
    "print(log_counts)\n",
    "density = gaussian_kde(log_counts, bw_method=0.1)\n",
    "\n",
    "xx_values = 10000  # how many x values for density plot\n",
    "xx = np.linspace(log_counts.min(), log_counts.max(), xx_values)\n",
    "\n",
    "local_min = None\n",
    "local_mins = argrelextrema(density(xx), np.less)\n",
    "print(local_mins)\n",
    "print(len(local_mins))\n",
    "fig = plt.figure()\n",
    "fig1 = fig.add_subplot(111)\n",
    "fig1.plot(xx, density(xx), 'k')\n",
    "fig1.set_xlabel(\"Count per cell (log10)\")\n",
    "fig1.set_ylabel(\"Density\")\n",
    "for pos in xx[local_mins]:\n",
    "    fig1.axvline(x=pos, ls=\"dashed\")"
   ]
  },
  {
   "cell_type": "code",
   "execution_count": null,
   "metadata": {},
   "outputs": [],
   "source": [
    "adata.raw = adata"
   ]
  },
  {
   "cell_type": "code",
   "execution_count": null,
   "metadata": {},
   "outputs": [],
   "source": [
    "sc.pp.normalize_per_cell(adata,counts_per_cell=1e4)\n",
    "sc.pp.log1p(adata)\n",
    "sc.pp.scale(adata, max_value=10)\n",
    "sc.pp.regress_out(adata,'n_counts')"
   ]
  },
  {
   "cell_type": "code",
   "execution_count": null,
   "metadata": {},
   "outputs": [],
   "source": [
    "sc.tl.pca(adata)\n",
    "adata.obsm['X_pca'] *= -1  # multiply by -1 to match Seurat"
   ]
  },
  {
   "cell_type": "code",
   "execution_count": null,
   "metadata": {},
   "outputs": [],
   "source": [
    "sc.pl.pca_variance_ratio(adata, log=True)\n",
    "sc.pl.pca_loadings(adata)"
   ]
  },
  {
   "cell_type": "code",
   "execution_count": null,
   "metadata": {},
   "outputs": [],
   "source": [
    "sc.tl.tsne(adata, random_state=2, n_pcs=50)\n",
    "sc.pl.tsne(adata, color=['n_counts','percent_ribo','percent_mito'])"
   ]
  },
  {
   "cell_type": "code",
   "execution_count": null,
   "metadata": {},
   "outputs": [],
   "source": [
    "sc.pp.neighbors(adata, n_neighbors=25)\n",
    "sc.tl.louvain(adata)\n",
    "sc.pl.tsne(adata,color=['louvain','n_counts'])"
   ]
  },
  {
   "cell_type": "code",
   "execution_count": null,
   "metadata": {},
   "outputs": [],
   "source": [
    "sc.tl.rank_genes_groups(adata, 'louvain')\n",
    "sc.pl.rank_genes_groups(adata, n_genes=30, save='.pdf')\n",
    "pd.DataFrame(adata.uns['rank_genes_groups']['names']).head(20)\n"
   ]
  },
  {
   "cell_type": "code",
   "execution_count": null,
   "metadata": {},
   "outputs": [],
   "source": [
    "result = adata.uns['rank_genes_groups']\n",
    "groups = result['names'].dtype.names\n",
    "pd.DataFrame({group + '_' + key[:1]: result[key][group]\n",
    "    for group in groups for key in ['names', 'scores']}).head(20)"
   ]
  },
  {
   "cell_type": "code",
   "execution_count": null,
   "metadata": {},
   "outputs": [],
   "source": [
    "adata = anndata.AnnData(X= X,var = pd.DataFrame(index=c.var_names),obs=pd.DataFrame(index=list(set(c.obs_names))))"
   ]
  },
  {
   "cell_type": "code",
   "execution_count": null,
   "metadata": {},
   "outputs": [],
   "source": [
    "sc.pp.filter_cells(adata, min_genes=100)\n",
    "sc.pp.filter_genes(adata, min_cells=10)\n",
    "print(adata.shape)"
   ]
  },
  {
   "cell_type": "code",
   "execution_count": null,
   "metadata": {},
   "outputs": [],
   "source": [
    "sc.pp.normalize_per_cell(adata,counts_per_cell=1e4)\n",
    "sc.pp.log1p(adata)\n",
    "sc.pp.scale(adata, max_value=10)\n",
    "sc.pp.regress_out(adata,'n_counts')\n",
    "sc.tl.pca(adata)\n",
    "adata.obsm['X_pca'] *= -1  # multiply by -1 to match Seurat\n",
    "sc.tl.tsne(adata)\n",
    "sc.pp.neighbors(adata)\n",
    "sc.tl.louvain(adata)\n",
    "sc.pl.tsne(adata,color=['louvain','n_counts'])"
   ]
  },
  {
   "cell_type": "code",
   "execution_count": null,
   "metadata": {},
   "outputs": [],
   "source": [
    "sc.tl.rank_genes_groups(adata, groupby='louvain',use_raw=True)\n",
    "sc.pl.rank_genes_groups(adata, n_genes=30, save='.pdf')\n",
    "pd.DataFrame(adata.uns['rank_genes_groups']['names']).head(20)\n"
   ]
  },
  {
   "cell_type": "code",
   "execution_count": null,
   "metadata": {},
   "outputs": [],
   "source": [
    "adata"
   ]
  },
  {
   "cell_type": "code",
   "execution_count": null,
   "metadata": {},
   "outputs": [],
   "source": [
    "from IPython.display import Javascript\n",
    "def save_notebook():\n",
    "    return display(Javascript(\"IPython.notebook.save_notebook()\"),\n",
    "                   include=['application/javascript'])\n",
    "\n",
    "def output_HTML(read_file, output_file):\n",
    "    from nbconvert import HTMLExporter\n",
    "    import codecs\n",
    "    import nbformat\n",
    "    exporter = HTMLExporter()\n",
    "    # read_file is '.ipynb', output_file is '.html'\n",
    "    output_notebook = nbformat.read(read_file, as_version=4)\n",
    "    output, resources = exporter.from_notebook_node(output_notebook)\n",
    "    codecs.open(output_file, 'w', encoding='utf-8').write(output)\n",
    "import time\n",
    "save_notebook()\n",
    "time.sleep(3)\n",
    "current_file = './Dolomite_Dropseq_Human.ipynb'\n",
    "output_file = '/home/mt/Downloads/Dolomite_Dropseq_Human.html' \n",
    "output_HTML(current_file, output_file)"
   ]
  }
 ],
 "metadata": {
  "kernelspec": {
   "display_name": "Python 3",
   "language": "python",
   "name": "python3"
  },
  "language_info": {
   "codemirror_mode": {
    "name": "ipython",
    "version": 3
   },
   "file_extension": ".py",
   "mimetype": "text/x-python",
   "name": "python",
   "nbconvert_exporter": "python",
   "pygments_lexer": "ipython3",
   "version": "3.6.0"
  }
 },
 "nbformat": 4,
 "nbformat_minor": 2
}
