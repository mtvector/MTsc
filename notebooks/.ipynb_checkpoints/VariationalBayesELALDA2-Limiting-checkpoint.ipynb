{
 "cells": [
  {
   "cell_type": "markdown",
   "metadata": {},
   "source": [
    "# Ambien't"
   ]
  },
  {
   "cell_type": "code",
   "execution_count": 1,
   "metadata": {},
   "outputs": [],
   "source": [
    "\n",
    "%matplotlib inline\n",
    "import sys, os\n",
    "# unfortunately I was not able to run it on GPU due to overflow problems\n",
    "\n",
    "import theano\n",
    "\n",
    "from collections import OrderedDict\n",
    "from copy import deepcopy\n",
    "import numpy as np\n",
    "from time import time\n",
    "from sklearn.feature_extraction.text import TfidfVectorizer, CountVectorizer\n",
    "from sklearn.datasets import fetch_20newsgroups\n",
    "import matplotlib.pyplot as plt\n",
    "import seaborn as sns\n",
    "from theano import shared\n",
    "import theano.tensor as tt\n",
    "from theano.sandbox.rng_mrg import MRG_RandomStreams\n",
    "\n",
    "import pymc3 as pm\n",
    "from pymc3 import math as pmmath\n",
    "from pymc3 import Dirichlet\n",
    "from pymc3.distributions import Interpolated\n",
    "from pymc3.distributions.transforms import t_stick_breaking\n",
    "plt.style.use('seaborn-darkgrid')\n",
    "from tqdm import tqdm\n"
   ]
  },
  {
   "cell_type": "code",
   "execution_count": 2,
   "metadata": {},
   "outputs": [],
   "source": [
    "import scanpy.api as sc\n",
    "import pandas as pd\n",
    "adata = sc.read_10x_mtx('/home/mt/Downloads/E40_motor_Out/outs/raw_gene_bc_matrices/refdata-celranger-mmul8-toplevel/',cache=True)\n",
    "bcs=list(pd.read_csv('/home/mt/Downloads/E40_motor_Out/outs/filtered_gene_bc_matrices/refdata-celranger-mmul8-toplevel/barcodes.tsv').iloc[:,0])\n",
    "#adata = sc.read_10x_h5('/home/mt/code/data/AlignedOrangutanOrganoid/Exonic/orangutanorganoid_Out/outs/filtered_gene_bc_matrices_h5.h5','refdata-celranger-Pabe2-toplevel')\n",
    "adata.var_names_make_unique()\n",
    "sc.pp.filter_genes(adata, min_cells=100,inplace=True)\n",
    "sc.pp.filter_cells(adata,min_counts=5,inplace=True)\n",
    "adata=adata[adata.obs.n_counts.argsort(),:]\n"
   ]
  },
  {
   "cell_type": "code",
   "execution_count": 3,
   "metadata": {},
   "outputs": [
    {
     "data": {
      "text/plain": [
       "View of AnnData object with n_obs × n_vars = 113056 × 8836 \n",
       "    obs: 'n_counts'\n",
       "    var: 'gene_ids', 'n_cells'"
      ]
     },
     "execution_count": 3,
     "metadata": {},
     "output_type": "execute_result"
    }
   ],
   "source": [
    "#adata._inplace_subset_obs(np.random.choice(adata.obs.index,10000,replace=False))\n",
    "#adata._inplace_subset_var(np.random.choice(adata.var.index,4000,replace=False))\n",
    "#sc.pp.filter_genes(adata, min_cells=50,inplace=True)\n",
    "#sc.pp.filter_cells(adata,min_counts=5,inplace=True)\n",
    "adata"
   ]
  },
  {
   "cell_type": "code",
   "execution_count": 4,
   "metadata": {},
   "outputs": [],
   "source": [
    "cell_inds=np.where([x in bcs for x in adata.obs.index])[0]\n",
    "junk_inds=np.where([x not in bcs for x in adata.obs.index])[0]\n"
   ]
  },
  {
   "cell_type": "code",
   "execution_count": 5,
   "metadata": {},
   "outputs": [],
   "source": [
    "adata=adata[:,(-adata[junk_inds,:].X).sum(0).A1.argsort()[0:3000]]"
   ]
  },
  {
   "cell_type": "code",
   "execution_count": 6,
   "metadata": {},
   "outputs": [],
   "source": [
    "from scipy.stats import gaussian_kde\n",
    "ambient_counts=np.log10(adata[[x not in bcs for x in adata.obs.index] ,:].obs.n_counts)\n",
    "\n",
    "def from_epdf(param, ambient_counts):\n",
    "    smin, smax = np.min(ambient_counts), np.max(ambient_counts)\n",
    "    width = smax - smin\n",
    "    x = np.linspace(smin, smax, 200)\n",
    "    y = gaussian_kde(ambient_counts)(x)\n",
    "    x = np.concatenate([[-1e9,-100,0], x, [x[-1] + np.log10(10)]])\n",
    "    y = np.concatenate([[1e-1000,1e-200,1e-2], y, [1e-20]])\n",
    "    #print(x)\n",
    "    #print(y)\n",
    "    sns.scatterplot(x,y)\n",
    "    plt.show()\n",
    "    return Interpolated(param, x, y)"
   ]
  },
  {
   "cell_type": "code",
   "execution_count": 7,
   "metadata": {},
   "outputs": [],
   "source": [
    "betaAmbient = adata[junk_inds,:].X.sum(axis=0)/adata[junk_inds,:].X.sum(axis=1).sum()"
   ]
  },
  {
   "cell_type": "code",
   "execution_count": 8,
   "metadata": {},
   "outputs": [],
   "source": [
    "feature_names=list(adata.var.index)\n",
    "tf=adata.X[cell_inds,:]\n"
   ]
  },
  {
   "cell_type": "code",
   "execution_count": 9,
   "metadata": {},
   "outputs": [
    {
     "name": "stdout",
     "output_type": "stream",
     "text": [
      "Number of docs for training = 1140\n",
      "Number of docs for test = 0\n",
      "Number of tokens in training set = 10354636.0\n",
      "Sparsity = 0.591662865497076\n"
     ]
    }
   ],
   "source": [
    "n_samples_tr = tf.shape[0]\n",
    "n_samples_te = tf.shape[0] - n_samples_tr\n",
    "docs_tr = tf[:n_samples_tr, :]\n",
    "docs_te = tf[n_samples_tr:, :]\n",
    "print('Number of docs for training = {}'.format(docs_tr.shape[0]))\n",
    "print('Number of docs for test = {}'.format(docs_te.shape[0]))\n",
    "\n",
    "n_tokens = np.sum(docs_tr[docs_tr.nonzero()])\n",
    "print('Number of tokens in training set = {}'.format(n_tokens))\n",
    "print('Sparsity = {}'.format(\n",
    "    len(docs_tr.nonzero()[0]) / float(docs_tr.shape[0] * docs_tr.shape[1])))"
   ]
  },
  {
   "cell_type": "code",
   "execution_count": 10,
   "metadata": {},
   "outputs": [],
   "source": [
    "n_topics=10\n",
    "L = (.1 / n_topics) * np.ones((tf.shape[0], n_topics))\n",
    "#L[junk_inds,:]=1e-50\n",
    "#L[junk_inds,L.shape[1]-1]=1\n",
    "L=pm.floatX(L)"
   ]
  },
  {
   "cell_type": "code",
   "execution_count": null,
   "metadata": {},
   "outputs": [
    {
     "name": "stdout",
     "output_type": "stream",
     "text": [
      "1140 3000\n"
     ]
    },
    {
     "data": {
      "image/png": "[encoded data removed]",
      "text/plain": [
       "<Figure size 432x288 with 1 Axes>"
      ]
     },
     "metadata": {
      "needs_background": "light"
     },
     "output_type": "display_data"
    }
   ],
   "source": [
    "model1 = pm.Model()\n",
    "K=10\n",
    "(D,V)=tf.shape\n",
    "print(D,V)\n",
    "alpha = np.ones((1, K))\n",
    "beta = np.ones((1, V))\n",
    "sparse_array=shared(np.array([tf.nonzero()[0],tf.nonzero()[1],tf.data]).T.astype('int32'))\n",
    "tt.cast(sparse_array,'int32')\n",
    "rowsums=shared(np.sum(tf,axis=1).T)\n",
    "sumall=shared(np.sum(tf))\n",
    "\n",
    "def log_lda(theta, phi, value):\n",
    "    ll = value[:,2] * pm.math.logsumexp(tt.log(theta[value[:,0].astype('int32')])+ tt.log(phi.T[value[:,1].astype('int32')]),axis=1).ravel()                                                                  \n",
    "    return tt.sum(ll) \n",
    "     \n",
    "def log_lda(theta, phi,ambient,value,rowsums,sumall,betaAmbient=None):\n",
    "    if betaAmbient is not None:\n",
    "        phi=tt.concatenate([phi,betaAmbient],axis=0)\n",
    "    else:\n",
    "        phi=phi\n",
    "    ll = value[:,2] * pm.math.logsumexp(tt.log(theta[value[:,0].astype('int32')]+1e-9)+ tt.log(phi.T[value[:,1].astype('int32')]+1e-9),axis=1).ravel()                                                                  \n",
    "    ambientll=ambient.distribution.logp(tt.log10((rowsums+1e-9)*(theta[:,theta.shape[1]-1]+1e-9)))\n",
    "    tt.printing.Print('l')(tt.sum(ambientll)*(sumall/rowsums.shape[1]))\n",
    "    tt.printing.Print('l')(tt.sum(ll))\n",
    "    tt.printing.Print('l')(tt.log10((rowsums+1e-9)*(theta[:,theta.shape[1]-1]+1e-9)))\n",
    "    tt.printing.Print('l')(ambient.distribution.logp(tt.log10((rowsums+1e-9)*(theta[:,theta.shape[1]-1]+1e-9))))\n",
    "    return tt.sum(ll) + tt.sum(ambientll)*(sumall/rowsums.shape[1])\n",
    "    #return tt.sum(ll)/sumall + tt.sum(ambientll)/rowsums.shape[1]\n",
    "    \n",
    "with model1: \n",
    "    theta = pm.Dirichlet(\"theta\", a=alpha, shape=(D, K), transform=t_stick_breaking(1e-9)).astype('float32')\n",
    "    phi = pm.Dirichlet(\"phi\", a=beta, shape=(K-1, V), transform=t_stick_breaking(1e-9)).astype('float32')\n",
    "    ambient=from_epdf('ambient',ambient_counts)\n",
    "    doc = pm.DensityDist('doc', log_lda, observed=dict(theta=theta, phi=phi,ambient=ambient, value=sparse_array,betaAmbient=betaAmbient,rowsums=rowsums,sumall=sumall))\n",
    "\n",
    "eta = .5\n",
    "s = shared(eta)\n",
    "def reduce_rate(a, h, i):\n",
    "    s.set_value(eta/((i/2)+1)**.5)    \n",
    "with model1:    \n",
    "    inference = pm.ADVI()\n",
    "    approx = pm.fit(n=1000,method= inference,obj_optimizer=pm.adam(learning_rate=s),callbacks=[reduce_rate,pm.callbacks.CheckParametersConvergence(diff='absolute')])\n",
    "   \n",
    "#inference    \n",
    "#pm.plots.traceplot(tr1);    \n",
    "#pm.plot_posterior(tr1, color='LightSeaGreen')"
   ]
  },
  {
   "cell_type": "code",
   "execution_count": null,
   "metadata": {},
   "outputs": [],
   "source": [
    "tr1 = approx.sample(draws=100)\n",
    "advi_elbo = pd.DataFrame(\n",
    "    {'log-ELBO': -np.log(approx.hist),\n",
    "     'n': np.arange(approx.hist.shape[0])})\n",
    "\n",
    "sns.lineplot(y='log-ELBO', x='n', data=advi_elbo)\n",
    "theta=tr1['theta'].mean(0)"
   ]
  },
  {
   "cell_type": "code",
   "execution_count": null,
   "metadata": {},
   "outputs": [],
   "source": [
    "theta"
   ]
  },
  {
   "cell_type": "code",
   "execution_count": null,
   "metadata": {},
   "outputs": [],
   "source": [
    "adata_copy=adata.copy()\n",
    "adata._inplace_subset_obs(cell_inds)\n",
    "adata"
   ]
  },
  {
   "cell_type": "code",
   "execution_count": null,
   "metadata": {},
   "outputs": [],
   "source": [
    "sc.pp.normalize_per_cell(adata, counts_per_cell_after=1e4)\n",
    "sc.pp.log1p(adata)\n",
    "sc.pp.highly_variable_genes(adata, n_top_genes=3000)\n",
    "sc.pp.scale(adata, max_value=10)\n",
    "sc.pp.pca(adata)\n",
    "sc.pp.neighbors(adata)\n",
    "sc.tl.umap(adata)\n"
   ]
  },
  {
   "cell_type": "code",
   "execution_count": null,
   "metadata": {},
   "outputs": [],
   "source": [
    "sc.tl.leiden(adata)\n",
    "sc.pl.umap(adata, color=['leiden'])\n"
   ]
  },
  {
   "cell_type": "code",
   "execution_count": null,
   "metadata": {},
   "outputs": [],
   "source": [
    "for i in range(theta.shape[1]):\n",
    "    adata.obs['lda_'+str(i)]=theta[:,i]\n"
   ]
  },
  {
   "cell_type": "code",
   "execution_count": null,
   "metadata": {},
   "outputs": [],
   "source": [
    "sc.pl.umap(adata, color=['lda_0','lda_1','lda_2','lda_3','lda_4','lda_5','lda_6','lda_7','lda_8','lda_9','n_counts'])\n"
   ]
  },
  {
   "cell_type": "code",
   "execution_count": null,
   "metadata": {},
   "outputs": [],
   "source": [
    "sc.settings.figdir='/home/mt/Downloads/'\n",
    "sc.tl.rank_genes_groups(adata, 'leiden', method='logreg')\n",
    "result = adata.uns['rank_genes_groups']\n",
    "groups = result['names'].dtype.names\n",
    "df=pd.DataFrame({group + '_' + key[:1]: result[key][group] for group in groups for key in ['names', 'scores']})\n",
    "df.to_csv(os.path.join(sc.settings.figdir,\"E40BeforeleidenLogRegMarkers.csv\"))"
   ]
  },
  {
   "cell_type": "code",
   "execution_count": null,
   "metadata": {},
   "outputs": [],
   "source": [
    "adata_copy._inplace_subset_obs(cell_inds)\n",
    "for i in range(theta.shape[1]):\n",
    "    adata_copy.obs['lda_'+str(i)]=theta[new_cell_inds,i]\n",
    "adata_copy._inplace_subset_obs([x<.5 for x in adata_copy.obs['lda_9']])"
   ]
  },
  {
   "cell_type": "code",
   "execution_count": null,
   "metadata": {},
   "outputs": [],
   "source": [
    "beta=tr1['phi'].mean(0)"
   ]
  },
  {
   "cell_type": "code",
   "execution_count": null,
   "metadata": {},
   "outputs": [],
   "source": [
    "for c in tqdm(range(adata_copy.shape[0])):\n",
    "    vals=[]\n",
    "    pvals=[]\n",
    "    for i in range(adata_copy.shape[1]):\n",
    "        vals=vals+[i]*int(adata_copy.X[c,i])\n",
    "        pvals=pvals+[beta[n_topics-1,i]]*int(adata_copy.X[c,i])\n",
    "    if len(vals)>0:\n",
    "        countremove=Counter(np.random.choice(vals,replace=False,size=min(len(vals),int(Z[c,n_topics-1])),p=pvals/sum(pvals))) \n",
    "        adata_copy.X[c,list(countremove.keys())]-=np.array(list(countremove.values()))\n"
   ]
  },
  {
   "cell_type": "code",
   "execution_count": null,
   "metadata": {},
   "outputs": [],
   "source": [
    "sc.pp.filter_genes(adata_copy,min_counts=1,inplace=True)\n",
    "sc.pp.filter_cells(adata_copy,min_counts=100,inplace=True)\n",
    "sc.pp.normalize_total(adata_copy, target_sum=1e4)\n",
    "sc.pp.log1p(adata_copy)\n",
    "sc.pp.highly_variable_genes(adata_copy,inplace=True)\n",
    "sc.pp.scale(adata_copy, max_value=10)\n",
    "sc.pp.pca(adata_copy)\n",
    "sc.pp.neighbors(adata_copy)\n",
    "sc.tl.umap(adata_copy)\n",
    "sc.tl.leiden(adata_copy)\n",
    "sc.pl.umap(adata_copy, color=['leiden'])\n"
   ]
  },
  {
   "cell_type": "code",
   "execution_count": null,
   "metadata": {},
   "outputs": [],
   "source": [
    "sc.pl.umap(adata_copy, color=['lda_0','lda_1','lda_2','lda_3','lda_4','lda_5','lda_6','lda_7','lda_8','lda_9','n_counts'])\n"
   ]
  },
  {
   "cell_type": "code",
   "execution_count": null,
   "metadata": {},
   "outputs": [],
   "source": [
    "sc.tl.rank_genes_groups(adata_copy, 'leiden', method='logreg')\n",
    "result = adata_copy.uns['rank_genes_groups']\n",
    "groups = result['names'].dtype.names\n",
    "df=pd.DataFrame({group + '_' + key[:1]: result[key][group] for group in groups for key in ['names', 'scores']})\n",
    "df.to_csv(os.path.join(sc.settings.figdir,\"E40AfterleidenLogRegMarkers.csv\"))\n"
   ]
  },
  {
   "cell_type": "code",
   "execution_count": 104,
   "metadata": {},
   "outputs": [
    {
     "name": "stdout",
     "output_type": "stream",
     "text": [
      "iteration: 1 of max_iter: 10\n",
      "iteration: 2 of max_iter: 10\n",
      "iteration: 3 of max_iter: 10\n",
      "iteration: 4 of max_iter: 10\n",
      "iteration: 5 of max_iter: 10\n",
      "iteration: 6 of max_iter: 10\n",
      "iteration: 7 of max_iter: 10\n",
      "iteration: 8 of max_iter: 10\n",
      "iteration: 9 of max_iter: 10\n",
      "iteration: 10 of max_iter: 10\n"
     ]
    }
   ],
   "source": [
    "import sklearn\n",
    "ldaM=sklearn.decomposition.LatentDirichletAllocation(n_components=10,learning_method=\"online\",verbose=1,n_jobs=-1)\n",
    "ldaM.fit(tf)\n",
    "doc_topic=ldaM.transform(tf)\n"
   ]
  },
  {
   "cell_type": "code",
   "execution_count": 19,
   "metadata": {},
   "outputs": [],
   "source": [
    "def logp_lda_doc(doc_t,theta,beta,density,betaAmbient=None):\n",
    "    \"\"\"Returns the log-likelihood function for given documents.\n",
    "\n",
    "    K : number of topics in the model\n",
    "    V : number of words (size of vocabulary)\n",
    "    D : number of documents (in a mini-batch)\n",
    "\n",
    "    Parameters\n",
    "    ----------\n",
    "    beta : tensor (K x V)\n",
    "        Word distributions.\n",
    "    theta : tensor (D x K)\n",
    "        Topic distributions for documents.\n",
    "    dixs : which doc\n",
    "    vixs : which word\n",
    "    vfreqs : frequency of doc x word\n",
    "    \"\"\"\n",
    "    def ll_docs_f(inds):\n",
    "        inds=inds.eval().astype('int32')\n",
    "        docs=shared(doc_t[inds,:].toarray())\n",
    "        dixs, vixs = docs.nonzero()\n",
    "        vfreqs = docs[dixs, vixs]\n",
    "        subtheta=theta[inds,:]\n",
    "        if betaAmbient is not None:\n",
    "            boundBeta=tt.concatenate([beta,betaAmbient],axis=0)\n",
    "        else:\n",
    "            boundBeta=beta\n",
    "        \n",
    "        ll_docs = vfreqs * pmmath.logsumexp(\n",
    "            tt.log10(subtheta[dixs]) + tt.log10(boundBeta.T[vixs]),\n",
    "            axis=1).ravel()\n",
    "        tt.printing.Print('logsum+theta')(ambient.distribution.logp(tt.log10(tt.sum(docs,axis=1)*subtheta[:,theta.shape[1]-1]))) - tt.log10(beta.shape[1])\n",
    "        #return((tt.sum(ll_docs) / (tt.sum(vfreqs)+1e-9) * n_tokens))\n",
    "        return ((tt.sum(ll_docs) / (tt.sum(vfreqs)+1e-9) * n_tokens)+(tt.sum(ambient.distribution.logp(tt.log10((tt.sum(docs,axis=1)+1e-9)*subtheta[:,theta.shape[1]-1])))))\n",
    "    \n",
    "    return ll_docs_f\n"
   ]
  },
  {
   "cell_type": "code",
   "execution_count": 20,
   "metadata": {},
   "outputs": [
    {
     "name": "stderr",
     "output_type": "stream",
     "text": [
      "/home/mt/code/utils/miniconda3/envs/pymc/lib/python3.7/site-packages/pymc3/data.py:245: FutureWarning: Using a non-tuple sequence for multidimensional indexing is deprecated; use `arr[tuple(seq)]` instead of `arr[seq]`. In the future this will be interpreted as an array index, `arr[np.array(seq)]`, which will result either in an error or a different result.\n",
      "  self.shared = theano.shared(data[in_memory_slc])\n"
     ]
    },
    {
     "data": {
      "image/png": "[encoded data removed]",
      "text/plain": [
       "<Figure size 432x288 with 1 Axes>"
      ]
     },
     "metadata": {
      "needs_background": "light"
     },
     "output_type": "display_data"
    },
    {
     "name": "stderr",
     "output_type": "stream",
     "text": [
      "/home/mt/code/utils/miniconda3/envs/pymc/lib/python3.7/site-packages/theano/tensor/subtensor.py:2197: FutureWarning: Using a non-tuple sequence for multidimensional indexing is deprecated; use `arr[tuple(seq)]` instead of `arr[seq]`. In the future this will be interpreted as an array index, `arr[np.array(seq)]`, which will result either in an error or a different result.\n",
      "  rval = inputs[0].__getitem__(inputs[1:])\n",
      "/home/mt/code/utils/miniconda3/envs/pymc/lib/python3.7/site-packages/theano/tensor/subtensor.py:2197: FutureWarning: Using a non-tuple sequence for multidimensional indexing is deprecated; use `arr[tuple(seq)]` instead of `arr[seq]`. In the future this will be interpreted as an array index, `arr[np.array(seq)]`, which will result either in an error or a different result.\n",
      "  rval = inputs[0].__getitem__(inputs[1:])\n"
     ]
    },
    {
     "name": "stdout",
     "output_type": "stream",
     "text": [
      "logsum+theta __str__ = [-3.06844565 -6.44145892 -5.77898257 -3.38848967 -3.03324084 -3.56272876\n",
      " -3.32735764 -3.82768155 -3.07063954 -4.82700929 -4.58108152 -4.98334749\n",
      " -3.62626116 -3.03324084 -3.21931101 -6.32082591 -3.23176084 -5.63358317\n",
      " -5.28001718 -5.52337508 -4.99222979 -3.73555327 -3.40207932 -4.12349614]\n",
      "logsum+theta __str__ = [-3.47590882 -3.64352189 -3.96321503 -3.76989077 -5.75575122 -4.34619584\n",
      " -3.11003409 -6.47844049 -3.8337247  -5.76007943 -4.29138768 -3.77965262\n",
      " -3.12694722 -2.9150111  -3.31642649 -3.34995876 -3.2938513  -3.30433081\n",
      " -4.0669164  -4.42349599 -5.04075702 -3.47485977 -4.33203288 -2.98405782]\n",
      "logsum+theta __str__ = [-3.91604714 -3.98194626 -2.97460012 -5.34674116 -5.00605761 -2.94402628\n",
      " -4.10076687 -4.33372708 -2.98405782 -2.92656187 -4.46243307 -4.04560865\n",
      " -4.0669164  -2.94402628 -4.99222979 -2.94344141 -4.33146847 -3.16134704\n",
      " -3.96118235 -4.31008403 -4.92761396 -3.49278504 -2.94402628 -6.40322698]\n"
     ]
    }
   ],
   "source": [
    "n_topics = 10\n",
    "# we have sparse dataset. It's better to have dense batch so that all words occur there\n",
    "minibatch_size = 24\n",
    "n_words=tf.shape[1]\n",
    "\n",
    "# defining minibatch\n",
    "#Can't load these arrays\n",
    "doc_t_minibatch = pm.Minibatch(list(range(docs_tr.shape[0])), minibatch_size)\n",
    "\n",
    "doc_t = np.random.choice(list(range(docs_tr.shape[0]-1)),minibatch_size-2)\n",
    "#print(list(doc_t)+[0])\n",
    "doc_t=[0,docs_tr.shape[0]-1]+list(doc_t)\n",
    "with pm.Model() as model:\n",
    "    theta = Dirichlet('theta', a=pm.floatX((1.0 / n_topics) * np.ones((docs_tr.shape[0], n_topics))),\n",
    "                      shape=(docs_tr.shape[0], n_topics), transform=t_stick_breaking(1e-9),\n",
    "                      # do not forget scaling\n",
    "                      total_size=n_samples_tr)    \n",
    "\n",
    "    beta = Dirichlet('beta', a=pm.floatX((1.0 / (n_topics-1)) * np.ones((n_topics-1, n_words))),\n",
    "                     shape=(n_topics-1, n_words), transform=t_stick_breaking(1e-9))\n",
    "    ambient=from_epdf('ambient',ambient_counts)\n",
    "    # Note, that we defined likelihood with scaling, so here we need no additional `total_size` kwarg\n",
    "    doc = pm.DensityDist('doc', logp_lda_doc(docs_tr,theta,beta,ambient,shared(betaAmbient)), observed=doc_t_minibatch)\n",
    "    #doc = pm.DensityDist('doc', logp_lda_doc(docs_tr,theta,beta,ambient), observed=doc_t_minibatch)"
   ]
  },
  {
   "cell_type": "code",
   "execution_count": 21,
   "metadata": {},
   "outputs": [],
   "source": [
    "doc_t=shared(doc_t)"
   ]
  },
  {
   "cell_type": "code",
   "execution_count": 22,
   "metadata": {},
   "outputs": [
    {
     "name": "stderr",
     "output_type": "stream",
     "text": [
      "  0%|          | 0/5000 [00:00<?, ?it/s]/home/mt/code/utils/miniconda3/envs/pymc/lib/python3.7/site-packages/theano/tensor/subtensor.py:2197: FutureWarning: Using a non-tuple sequence for multidimensional indexing is deprecated; use `arr[tuple(seq)]` instead of `arr[seq]`. In the future this will be interpreted as an array index, `arr[np.array(seq)]`, which will result either in an error or a different result.\n",
      "  rval = inputs[0].__getitem__(inputs[1:])\n",
      "Average Loss = 1.7787e+07:  23%|██▎       | 1155/5000 [00:49<02:53, 22.15it/s]\n",
      "Interrupted at 1,157 [23%]: Average Loss = 1.7847e+07\n"
     ]
    }
   ],
   "source": [
    "#https://alexioannides.com/2018/11/07/bayesian-regression-in-pymc3-using-mcmc-variational-inference/\n",
    "η = .5\n",
    "s = shared(η)\n",
    "def reduce_rate(a, h, i):\n",
    "    s.set_value(η/((i/minibatch_size)+1)**.5)\n",
    "with model:\n",
    "    #step = pm.Metropolis()\n",
    "    #start = pm.find_MAP(model=model,progressbar=True)\n",
    "    #step = pm.NUTS()\n",
    "    #trace=pm.sample(draws=1000, progressbar=True)\n",
    "    #approx = pm.fit(100, callbacks=[pm.callbacks.CheckParametersConvergence(tolerance=1e-4)])\n",
    "    #approx = pm.MeanField(local_rv=local_RVs)\n",
    "    #approx.scale_cost_to_minibatch = False\n",
    "    #inference = pm.KLqp(approx)\n",
    "    advi=pm.ADVI()\n",
    "    advi_fit=advi.fit(n=5000,obj_optimizer=pm.adam(learning_rate=0.1),more_replacements={doc_t: doc_t_minibatch})\n",
    "\n"
   ]
  },
  {
   "cell_type": "code",
   "execution_count": 24,
   "metadata": {},
   "outputs": [
    {
     "data": {
      "text/plain": [
       "<matplotlib.axes._subplots.AxesSubplot at 0x7f198b0cd400>"
      ]
     },
     "execution_count": 24,
     "metadata": {},
     "output_type": "execute_result"
    },
    {
     "data": {
      "image/png": "[encoded data removed]",
      "text/plain": [
       "<Figure size 432x288 with 1 Axes>"
      ]
     },
     "metadata": {
      "needs_background": "light"
     },
     "output_type": "display_data"
    }
   ],
   "source": [
    "sns.distplot(np.mean(advi_fit.sample(50)['theta'],axis=0)[:,9],kde=False)\n"
   ]
  },
  {
   "cell_type": "code",
   "execution_count": 30,
   "metadata": {},
   "outputs": [
    {
     "data": {
      "text/plain": [
       "array([[8.50472198e-05, 9.04436554e-03, 1.68264294e-03, ...,\n",
       "        1.97221699e-05, 3.91562150e-03, 6.91179318e-04],\n",
       "       [2.07520189e-04, 1.04185846e-03, 1.72017165e-04, ...,\n",
       "        1.00567526e-09, 6.19338472e-01, 3.79172557e-01],\n",
       "       [1.83973520e-04, 6.96598123e-05, 1.84813402e-06, ...,\n",
       "        2.58958009e-03, 3.89961801e-03, 4.16477481e-10],\n",
       "       ...,\n",
       "       [1.82261245e-03, 7.59314496e-03, 1.54134042e-01, ...,\n",
       "        3.91531851e-07, 9.21948554e-03, 1.65140758e-05],\n",
       "       [7.09451251e-05, 2.07628876e-06, 7.03775933e-01, ...,\n",
       "        1.34033431e-03, 4.33851966e-08, 3.24237884e-05],\n",
       "       [1.03442280e-07, 9.98757609e-01, 1.07026816e-05, ...,\n",
       "        8.66518636e-05, 1.26003158e-05, 7.30901914e-08]])"
      ]
     },
     "execution_count": 30,
     "metadata": {},
     "output_type": "execute_result"
    }
   ],
   "source": [
    "theta=advi_fit.sample(1)['theta'][0]\n",
    "theta"
   ]
  },
  {
   "cell_type": "code",
   "execution_count": 33,
   "metadata": {},
   "outputs": [
    {
     "data": {
      "text/plain": [
       "(1140, 10)"
      ]
     },
     "execution_count": 33,
     "metadata": {},
     "output_type": "execute_result"
    }
   ],
   "source": [
    "theta=np.mean(advi_fit.sample(500)['theta'],axis=0)\n",
    "#beta=np.concatenate([beta,betaAmbient],axis=0)\n",
    "theta.shape"
   ]
  },
  {
   "cell_type": "code",
   "execution_count": 37,
   "metadata": {},
   "outputs": [],
   "source": [
    "theta=tf*beta.T\n",
    "theta=np.multiply(theta.T,1/theta.sum(axis=1))"
   ]
  },
  {
   "cell_type": "code",
   "execution_count": 28,
   "metadata": {},
   "outputs": [
    {
     "data": {
      "text/plain": [
       "(1, 21, 10)"
      ]
     },
     "execution_count": 28,
     "metadata": {},
     "output_type": "execute_result"
    }
   ],
   "source": [
    "theta.shape"
   ]
  },
  {
   "cell_type": "code",
   "execution_count": 50,
   "metadata": {},
   "outputs": [
    {
     "data": {
      "text/plain": [
       "array([[1.        , 0.99889364, 0.99919022, 0.99874102, 0.99911053,\n",
       "        0.9988606 , 0.99911311, 0.99913003, 0.99902271, 0.99911386],\n",
       "       [0.99889364, 1.        , 0.99911662, 0.99791145, 0.99918163,\n",
       "        0.9991395 , 0.99866277, 0.99902209, 0.99903135, 0.99906528],\n",
       "       [0.99919022, 0.99911662, 1.        , 0.99884524, 0.99914902,\n",
       "        0.99924458, 0.99913242, 0.9992301 , 0.99910634, 0.99917305],\n",
       "       [0.99874102, 0.99791145, 0.99884524, 1.        , 0.99850118,\n",
       "        0.99847752, 0.99901069, 0.99886538, 0.99838232, 0.99846872],\n",
       "       [0.99911053, 0.99918163, 0.99914902, 0.99850118, 1.        ,\n",
       "        0.99910957, 0.99899719, 0.99915828, 0.99923174, 0.99917387],\n",
       "       [0.9988606 , 0.9991395 , 0.99924458, 0.99847752, 0.99910957,\n",
       "        1.        , 0.99903428, 0.99905789, 0.99906577, 0.99912275],\n",
       "       [0.99911311, 0.99866277, 0.99913242, 0.99901069, 0.99899719,\n",
       "        0.99903428, 1.        , 0.99923628, 0.99897226, 0.99906768],\n",
       "       [0.99913003, 0.99902209, 0.9992301 , 0.99886538, 0.99915828,\n",
       "        0.99905789, 0.99923628, 1.        , 0.99910957, 0.99916095],\n",
       "       [0.99902271, 0.99903135, 0.99910634, 0.99838232, 0.99923174,\n",
       "        0.99906577, 0.99897226, 0.99910957, 1.        , 0.99919128],\n",
       "       [0.99911386, 0.99906528, 0.99917305, 0.99846872, 0.99917387,\n",
       "        0.99912275, 0.99906768, 0.99916095, 0.99919128, 1.        ]])"
      ]
     },
     "execution_count": 50,
     "metadata": {},
     "output_type": "execute_result"
    }
   ],
   "source": [
    "np.corrcoef(beta)"
   ]
  },
  {
   "cell_type": "code",
   "execution_count": 111,
   "metadata": {},
   "outputs": [
    {
     "data": {
      "text/plain": [
       "<matplotlib.axes._subplots.AxesSubplot at 0x7efd21a24518>"
      ]
     },
     "execution_count": 111,
     "metadata": {},
     "output_type": "execute_result"
    },
    {
     "data": {
      "image/png": "[encoded data removed]",
      "text/plain": [
       "<Figure size 432x288 with 1 Axes>"
      ]
     },
     "metadata": {
      "needs_background": "light"
     },
     "output_type": "display_data"
    }
   ],
   "source": [
    "sns.distplot(np.mean(advi_fit.sample(20)['theta'],axis=0)[:,9],kde=False)\n"
   ]
  },
  {
   "cell_type": "code",
   "execution_count": 30,
   "metadata": {},
   "outputs": [
    {
     "data": {
      "text/plain": [
       "<matplotlib.axes._subplots.AxesSubplot at 0x7f224c6b41d0>"
      ]
     },
     "execution_count": 30,
     "metadata": {},
     "output_type": "execute_result"
    },
    {
     "data": {
      "image/png": "[encoded data removed]",
      "text/plain": [
       "<Figure size 432x288 with 1 Axes>"
      ]
     },
     "metadata": {
      "needs_background": "light"
     },
     "output_type": "display_data"
    }
   ],
   "source": [
    "advi_elbo = pd.DataFrame(\n",
    "    {'log-ELBO': -np.log(advi_fit.hist),\n",
    "     'n': np.arange(advi_fit.hist.shape[0])})\n",
    "\n",
    "sns.lineplot(y='log-ELBO', x='n', data=advi_elbo)"
   ]
  },
  {
   "cell_type": "code",
   "execution_count": 46,
   "metadata": {},
   "outputs": [
    {
     "ename": "NameError",
     "evalue": "name 'pickle' is not defined",
     "output_type": "error",
     "traceback": [
      "\u001b[0;31m---------------------------------------------------------------------------\u001b[0m",
      "\u001b[0;31mNameError\u001b[0m                                 Traceback (most recent call last)",
      "\u001b[0;32m<ipython-input-46-9da4b363c3b2>\u001b[0m in \u001b[0;36m<module>\u001b[0;34m\u001b[0m\n\u001b[1;32m      1\u001b[0m \u001b[0;31m# import pickle\u001b[0m\u001b[0;34m\u001b[0m\u001b[0;34m\u001b[0m\u001b[0;34m\u001b[0m\u001b[0m\n\u001b[1;32m      2\u001b[0m \u001b[0;32mwith\u001b[0m \u001b[0mopen\u001b[0m\u001b[0;34m(\u001b[0m\u001b[0;34m'/home/mt/Desktop/advimodel.pickle'\u001b[0m\u001b[0;34m,\u001b[0m \u001b[0;34m'wb'\u001b[0m\u001b[0;34m)\u001b[0m \u001b[0;32mas\u001b[0m \u001b[0mbuff\u001b[0m\u001b[0;34m:\u001b[0m\u001b[0;34m\u001b[0m\u001b[0;34m\u001b[0m\u001b[0m\n\u001b[0;32m----> 3\u001b[0;31m     \u001b[0mpickle\u001b[0m\u001b[0;34m.\u001b[0m\u001b[0mdump\u001b[0m\u001b[0;34m(\u001b[0m\u001b[0;34m{\u001b[0m \u001b[0;34m'theta'\u001b[0m\u001b[0;34m:\u001b[0m \u001b[0mnp\u001b[0m\u001b[0;34m.\u001b[0m\u001b[0mmean\u001b[0m\u001b[0;34m(\u001b[0m\u001b[0madvi_fit\u001b[0m\u001b[0;34m.\u001b[0m\u001b[0msample\u001b[0m\u001b[0;34m(\u001b[0m\u001b[0;36m50\u001b[0m\u001b[0;34m)\u001b[0m\u001b[0;34m[\u001b[0m\u001b[0;34m'theta'\u001b[0m\u001b[0;34m]\u001b[0m\u001b[0;34m,\u001b[0m\u001b[0maxis\u001b[0m\u001b[0;34m=\u001b[0m\u001b[0;36m0\u001b[0m\u001b[0;34m)\u001b[0m\u001b[0;34m}\u001b[0m\u001b[0;34m,\u001b[0m \u001b[0mbuff\u001b[0m\u001b[0;34m)\u001b[0m\u001b[0;34m\u001b[0m\u001b[0;34m\u001b[0m\u001b[0m\n\u001b[0m\u001b[1;32m      4\u001b[0m \u001b[0;34m\u001b[0m\u001b[0m\n\u001b[1;32m      5\u001b[0m \u001b[0;32mwith\u001b[0m \u001b[0mopen\u001b[0m\u001b[0;34m(\u001b[0m\u001b[0;34m'/home/mt/Desktop/advimodel.pickle'\u001b[0m\u001b[0;34m,\u001b[0m \u001b[0;34m'rb'\u001b[0m\u001b[0;34m)\u001b[0m \u001b[0;32mas\u001b[0m \u001b[0mbuff\u001b[0m\u001b[0;34m:\u001b[0m\u001b[0;34m\u001b[0m\u001b[0;34m\u001b[0m\u001b[0m\n",
      "\u001b[0;31mNameError\u001b[0m: name 'pickle' is not defined"
     ]
    }
   ],
   "source": [
    "# import pickle \n",
    "with open('/home/mt/Desktop/advimodel.pickle', 'wb') as buff:\n",
    "    pickle.dump({ 'theta': np.mean(advi_fit.sample(50)['theta'],axis=0)}, buff)\n",
    "\n",
    "with open('/home/mt/Desktop/advimodel.pickle', 'rb') as buff:\n",
    "    data = pickle.load(buff)\n",
    "theta = data['theta']"
   ]
  },
  {
   "cell_type": "code",
   "execution_count": 65,
   "metadata": {},
   "outputs": [
    {
     "data": {
      "text/plain": [
       "<matplotlib.axes._subplots.AxesSubplot at 0x7f6d043aacc0>"
      ]
     },
     "execution_count": 65,
     "metadata": {},
     "output_type": "execute_result"
    },
    {
     "data": {
      "image/png": "[encoded data removed]",
      "text/plain": [
       "<Figure size 432x288 with 2 Axes>"
      ]
     },
     "metadata": {
      "needs_background": "light"
     },
     "output_type": "display_data"
    }
   ],
   "source": [
    "sns.heatmap(np.corrcoef(theta.T))"
   ]
  },
  {
   "cell_type": "code",
   "execution_count": 63,
   "metadata": {},
   "outputs": [
    {
     "ename": "TypeError",
     "evalue": "only integer scalar arrays can be converted to a scalar index",
     "output_type": "error",
     "traceback": [
      "\u001b[0;31m---------------------------------------------------------------------------\u001b[0m",
      "\u001b[0;31mTypeError\u001b[0m                                 Traceback (most recent call last)",
      "\u001b[0;32m<ipython-input-63-b7c05875f576>\u001b[0m in \u001b[0;36m<module>\u001b[0;34m\u001b[0m\n\u001b[1;32m      7\u001b[0m \u001b[0mbeta_pymc3\u001b[0m \u001b[0;34m=\u001b[0m \u001b[0mnp\u001b[0m\u001b[0;34m.\u001b[0m\u001b[0mconcatenate\u001b[0m\u001b[0;34m(\u001b[0m\u001b[0;34m[\u001b[0m\u001b[0mnp\u001b[0m\u001b[0;34m.\u001b[0m\u001b[0mmean\u001b[0m\u001b[0;34m(\u001b[0m\u001b[0madvi_fit\u001b[0m\u001b[0;34m.\u001b[0m\u001b[0msample\u001b[0m\u001b[0;34m(\u001b[0m\u001b[0;36m20\u001b[0m\u001b[0;34m)\u001b[0m\u001b[0;34m[\u001b[0m\u001b[0;34m'beta'\u001b[0m\u001b[0;34m]\u001b[0m\u001b[0;34m,\u001b[0m\u001b[0maxis\u001b[0m\u001b[0;34m=\u001b[0m\u001b[0;36m0\u001b[0m\u001b[0;34m)\u001b[0m\u001b[0;34m,\u001b[0m\u001b[0mbetaAmbient\u001b[0m\u001b[0;34m]\u001b[0m\u001b[0;34m,\u001b[0m\u001b[0maxis\u001b[0m\u001b[0;34m=\u001b[0m\u001b[0;36m0\u001b[0m\u001b[0;34m)\u001b[0m\u001b[0;34m\u001b[0m\u001b[0;34m\u001b[0m\u001b[0m\n\u001b[1;32m      8\u001b[0m \u001b[0msns\u001b[0m\u001b[0;34m.\u001b[0m\u001b[0mheatmap\u001b[0m\u001b[0;34m(\u001b[0m\u001b[0mnp\u001b[0m\u001b[0;34m.\u001b[0m\u001b[0mcorrcoef\u001b[0m\u001b[0;34m(\u001b[0m\u001b[0mbeta_pymc3\u001b[0m\u001b[0;34m)\u001b[0m\u001b[0;34m)\u001b[0m\u001b[0;34m\u001b[0m\u001b[0;34m\u001b[0m\u001b[0m\n\u001b[0;32m----> 9\u001b[0;31m \u001b[0mprint_top_words\u001b[0m\u001b[0;34m(\u001b[0m\u001b[0mbeta_pymc3\u001b[0m\u001b[0;34m,\u001b[0m \u001b[0mfeature_names\u001b[0m\u001b[0;34m)\u001b[0m\u001b[0;34m\u001b[0m\u001b[0;34m\u001b[0m\u001b[0m\n\u001b[0m",
      "\u001b[0;32m<ipython-input-63-b7c05875f576>\u001b[0m in \u001b[0;36mprint_top_words\u001b[0;34m(beta, feature_names, n_top_words)\u001b[0m\n\u001b[1;32m      2\u001b[0m     \u001b[0;32mfor\u001b[0m \u001b[0mi\u001b[0m \u001b[0;32min\u001b[0m \u001b[0mrange\u001b[0m\u001b[0;34m(\u001b[0m\u001b[0mlen\u001b[0m\u001b[0;34m(\u001b[0m\u001b[0mbeta\u001b[0m\u001b[0;34m)\u001b[0m\u001b[0;34m)\u001b[0m\u001b[0;34m:\u001b[0m\u001b[0;34m\u001b[0m\u001b[0;34m\u001b[0m\u001b[0m\n\u001b[1;32m      3\u001b[0m         print((\"Topic #%d: \" % i) + \" \".join([feature_names[j]\n\u001b[0;32m----> 4\u001b[0;31m             for j in beta[i].argsort()[:-n_top_words - 1:-1]]))\n\u001b[0m\u001b[1;32m      5\u001b[0m \u001b[0;34m\u001b[0m\u001b[0m\n\u001b[1;32m      6\u001b[0m \u001b[0;34m\u001b[0m\u001b[0m\n",
      "\u001b[0;32m<ipython-input-63-b7c05875f576>\u001b[0m in \u001b[0;36m<listcomp>\u001b[0;34m(.0)\u001b[0m\n\u001b[1;32m      2\u001b[0m     \u001b[0;32mfor\u001b[0m \u001b[0mi\u001b[0m \u001b[0;32min\u001b[0m \u001b[0mrange\u001b[0m\u001b[0;34m(\u001b[0m\u001b[0mlen\u001b[0m\u001b[0;34m(\u001b[0m\u001b[0mbeta\u001b[0m\u001b[0;34m)\u001b[0m\u001b[0;34m)\u001b[0m\u001b[0;34m:\u001b[0m\u001b[0;34m\u001b[0m\u001b[0;34m\u001b[0m\u001b[0m\n\u001b[1;32m      3\u001b[0m         print((\"Topic #%d: \" % i) + \" \".join([feature_names[j]\n\u001b[0;32m----> 4\u001b[0;31m             for j in beta[i].argsort()[:-n_top_words - 1:-1]]))\n\u001b[0m\u001b[1;32m      5\u001b[0m \u001b[0;34m\u001b[0m\u001b[0m\n\u001b[1;32m      6\u001b[0m \u001b[0;34m\u001b[0m\u001b[0m\n",
      "\u001b[0;31mTypeError\u001b[0m: only integer scalar arrays can be converted to a scalar index"
     ]
    },
    {
     "data": {
      "image/png": "[encoded data removed]",
      "text/plain": [
       "<Figure size 432x288 with 2 Axes>"
      ]
     },
     "metadata": {
      "needs_background": "light"
     },
     "output_type": "display_data"
    }
   ],
   "source": [
    "def print_top_words(beta, feature_names, n_top_words=10):\n",
    "    for i in range(len(beta)):\n",
    "        print((\"Topic #%d: \" % i) + \" \".join([feature_names[j]\n",
    "            for j in beta[i].argsort()[:-n_top_words - 1:-1]]))\n",
    "\n",
    "\n",
    "beta_pymc3 = np.concatenate([np.mean(advi_fit.sample(20)['beta'],axis=0),betaAmbient],axis=0)\n",
    "sns.heatmap(np.corrcoef(beta_pymc3))\n",
    "print_top_words(beta_pymc3, feature_names)"
   ]
  },
  {
   "cell_type": "code",
   "execution_count": null,
   "metadata": {},
   "outputs": [],
   "source": [
    "sns.distplot(samples['theta'].mean(axis=0)[:,9],kde=False,bins=20)"
   ]
  },
  {
   "cell_type": "code",
   "execution_count": null,
   "metadata": {},
   "outputs": [],
   "source": [
    "samples['theta'].mean(axis=0).shape"
   ]
  },
  {
   "cell_type": "code",
   "execution_count": 60,
   "metadata": {},
   "outputs": [],
   "source": [
    "class LDAEncoder:\n",
    "    \"\"\"Encode (term-frequency) document vectors to variational means and (log-transformed) stds.\n",
    "    \"\"\"\n",
    "    def __init__(self, n_words, n_hidden, n_topics, p_corruption=0, random_seed=1):\n",
    "        rng = np.random.RandomState(random_seed)\n",
    "        self.n_words = n_words\n",
    "        self.n_hidden = n_hidden\n",
    "        self.n_topics = n_topics\n",
    "        self.w0 = shared(0.01 * rng.randn(n_words, n_hidden).ravel(), name='w0')\n",
    "        self.b0 = shared(0.01 * rng.randn(n_hidden), name='b0')\n",
    "        self.w1 = shared(0.01 * rng.randn(n_hidden, 2 * (n_topics - 1)).ravel(), name='w1')\n",
    "        self.b1 = shared(0.01 * rng.randn(2 * (n_topics - 1)), name='b1')\n",
    "        self.rng = MRG_RandomStreams(seed=random_seed)\n",
    "        self.p_corruption = p_corruption\n",
    "\n",
    "    def encode(self, xs):\n",
    "        if 0 < self.p_corruption:\n",
    "            dixs, vixs = xs.nonzero()\n",
    "            mask = tt.set_subtensor(\n",
    "                tt.zeros_like(xs)[dixs, vixs],\n",
    "                self.rng.binomial(size=dixs.shape, n=1, p=1-self.p_corruption)\n",
    "            )\n",
    "            xs_ = xs * mask\n",
    "        else:\n",
    "            xs_ = xs\n",
    "\n",
    "        w0 = self.w0.reshape((self.n_words, self.n_hidden))\n",
    "        w1 = self.w1.reshape((self.n_hidden, 2 * (self.n_topics - 1)))\n",
    "        hs = tt.nnet.relu(xs_.dot(w0) + self.b0)\n",
    "        zs = hs.dot(w1) + self.b1\n",
    "        zs_mean = zs[:, :(self.n_topics - 1)]\n",
    "        zs_rho = zs[:, (self.n_topics - 1):]\n",
    "        return {'mu': zs_mean, 'rho':zs_rho}\n",
    "\n",
    "    def get_params(self):\n",
    "        return [self.w0, self.b0, self.w1, self.b1]"
   ]
  },
  {
   "cell_type": "code",
   "execution_count": 62,
   "metadata": {
    "scrolled": true
   },
   "outputs": [
    {
     "name": "stdout",
     "output_type": "stream",
     "text": [
      "Built Encoder\n"
     ]
    },
    {
     "data": {
      "text/plain": [
       "OrderedDict([(theta,\n",
       "              {'mu': Subtensor{::, :int64:}.0,\n",
       "               'rho': Subtensor{::, int64::}.0})])"
      ]
     },
     "execution_count": 62,
     "metadata": {},
     "output_type": "execute_result"
    }
   ],
   "source": [
    "encoder = LDAEncoder(n_words=n_words, n_hidden=1000, n_topics=n_topics, p_corruption=0.0)\n",
    "print('Built Encoder')\n",
    "local_RVs = OrderedDict([(theta, encoder.encode(shared(docs_tr[doc_t,:].toarray())))])\n",
    "doc_t=shared(doc_t)\n",
    "local_RVs"
   ]
  },
  {
   "cell_type": "code",
   "execution_count": 63,
   "metadata": {},
   "outputs": [
    {
     "data": {
      "text/plain": [
       "[w0, b0, w1, b1]"
      ]
     },
     "execution_count": 63,
     "metadata": {},
     "output_type": "execute_result"
    }
   ],
   "source": [
    "encoder_params = encoder.get_params()\n",
    "encoder_params"
   ]
  },
  {
   "cell_type": "code",
   "execution_count": 67,
   "metadata": {},
   "outputs": [
    {
     "name": "stderr",
     "output_type": "stream",
     "text": [
      "  0%|          | 0/10000 [00:00<?, ?it/s]\n"
     ]
    },
    {
     "ename": "IndexError",
     "evalue": "index 377 is out of bounds for size 24\nApply node that caused the error: AdvancedSubtensor1(theta, TensorConstant{[ 377  375.. 716   54]})\nToposort index: 209\nInputs types: [TensorType(float64, matrix), TensorType(int32, vector)]\nInputs shapes: [(24, 10), (24,)]\nInputs strides: [(8, 192), (4,)]\nInputs values: ['not shown', 'not shown']\nOutputs clients: [[Subtensor{::, int64}(AdvancedSubtensor1.0, Constant{9}), AdvancedSubtensor1(AdvancedSubtensor1.0, Subtensor{int64}.0)]]\n\nBacktrace when the node is created(use Theano flag traceback.limit=N to make it longer):\n  File \"/home/mt/code/utils/miniconda3/envs/pymc/lib/python3.7/site-packages/IPython/core/interactiveshell.py\", line 3214, in run_ast_nodes\n    if (yield from self.run_code(code, result)):\n  File \"/home/mt/code/utils/miniconda3/envs/pymc/lib/python3.7/site-packages/IPython/core/interactiveshell.py\", line 3296, in run_code\n    exec(code_obj, self.user_global_ns, self.user_ns)\n  File \"<ipython-input-59-bdb47a819708>\", line 24, in <module>\n    doc = pm.DensityDist('doc', logp_lda_doc(docs_tr,theta,beta,ambient), observed=doc_t_minibatch)\n  File \"/home/mt/code/utils/miniconda3/envs/pymc/lib/python3.7/site-packages/pymc3/distributions/distribution.py\", line 46, in __new__\n    return model.Var(name, dist, data, total_size)\n  File \"/home/mt/code/utils/miniconda3/envs/pymc/lib/python3.7/site-packages/pymc3/model.py\", line 856, in Var\n    total_size=total_size, model=self)\n  File \"/home/mt/code/utils/miniconda3/envs/pymc/lib/python3.7/site-packages/pymc3/model.py\", line 1392, in __init__\n    self.logp_sum_unscaledt = distribution.logp_sum(data)\n  File \"/home/mt/code/utils/miniconda3/envs/pymc/lib/python3.7/site-packages/pymc3/distributions/distribution.py\", line 123, in logp_sum\n    return tt.sum(self.logp(*args, **kwargs))\n  File \"<ipython-input-58-97458387cb93>\", line 23, in ll_docs_f\n    subtheta=theta[inds,:]\n\nHINT: Use the Theano flag 'exception_verbosity=high' for a debugprint and storage map footprint of this apply node.",
     "output_type": "error",
     "traceback": [
      "\u001b[0;31m---------------------------------------------------------------------------\u001b[0m",
      "\u001b[0;31mIndexError\u001b[0m                                Traceback (most recent call last)",
      "\u001b[0;32m~/code/utils/miniconda3/envs/pymc/lib/python3.7/site-packages/theano/compile/function_module.py\u001b[0m in \u001b[0;36m__call__\u001b[0;34m(self, *args, **kwargs)\u001b[0m\n\u001b[1;32m    902\u001b[0m             \u001b[0moutputs\u001b[0m \u001b[0;34m=\u001b[0m\u001b[0;31m\\\u001b[0m\u001b[0;34m\u001b[0m\u001b[0;34m\u001b[0m\u001b[0m\n\u001b[0;32m--> 903\u001b[0;31m                 \u001b[0mself\u001b[0m\u001b[0;34m.\u001b[0m\u001b[0mfn\u001b[0m\u001b[0;34m(\u001b[0m\u001b[0;34m)\u001b[0m \u001b[0;32mif\u001b[0m \u001b[0moutput_subset\u001b[0m \u001b[0;32mis\u001b[0m \u001b[0;32mNone\u001b[0m \u001b[0;32melse\u001b[0m\u001b[0;31m\\\u001b[0m\u001b[0;34m\u001b[0m\u001b[0;34m\u001b[0m\u001b[0m\n\u001b[0m\u001b[1;32m    904\u001b[0m                 \u001b[0mself\u001b[0m\u001b[0;34m.\u001b[0m\u001b[0mfn\u001b[0m\u001b[0;34m(\u001b[0m\u001b[0moutput_subset\u001b[0m\u001b[0;34m=\u001b[0m\u001b[0moutput_subset\u001b[0m\u001b[0;34m)\u001b[0m\u001b[0;34m\u001b[0m\u001b[0;34m\u001b[0m\u001b[0m\n",
      "\u001b[0;31mIndexError\u001b[0m: index 377 is out of bounds for size 24",
      "\nDuring handling of the above exception, another exception occurred:\n",
      "\u001b[0;31mIndexError\u001b[0m                                Traceback (most recent call last)",
      "\u001b[0;32m<ipython-input-67-559a0498354b>\u001b[0m in \u001b[0;36m<module>\u001b[0;34m\u001b[0m\n\u001b[1;32m      8\u001b[0m     \u001b[0mapprox\u001b[0m\u001b[0;34m.\u001b[0m\u001b[0mscale_cost_to_minibatch\u001b[0m \u001b[0;34m=\u001b[0m \u001b[0;32mFalse\u001b[0m\u001b[0;34m\u001b[0m\u001b[0;34m\u001b[0m\u001b[0m\n\u001b[1;32m      9\u001b[0m     \u001b[0minference\u001b[0m \u001b[0;34m=\u001b[0m \u001b[0mpm\u001b[0m\u001b[0;34m.\u001b[0m\u001b[0mKLqp\u001b[0m\u001b[0;34m(\u001b[0m\u001b[0mapprox\u001b[0m\u001b[0;34m)\u001b[0m\u001b[0;34m\u001b[0m\u001b[0;34m\u001b[0m\u001b[0m\n\u001b[0;32m---> 10\u001b[0;31m \u001b[0minference\u001b[0m\u001b[0;34m.\u001b[0m\u001b[0mfit\u001b[0m\u001b[0;34m(\u001b[0m\u001b[0;36m10000\u001b[0m\u001b[0;34m,\u001b[0m\u001b[0mmore_obj_params\u001b[0m\u001b[0;34m=\u001b[0m\u001b[0mencoder_params\u001b[0m\u001b[0;34m,\u001b[0m\u001b[0mmore_replacements\u001b[0m\u001b[0;34m=\u001b[0m\u001b[0;34m{\u001b[0m\u001b[0mdoc_t\u001b[0m\u001b[0;34m:\u001b[0m \u001b[0mdoc_t_minibatch\u001b[0m\u001b[0;34m}\u001b[0m\u001b[0;34m)\u001b[0m\u001b[0;34m\u001b[0m\u001b[0;34m\u001b[0m\u001b[0m\n\u001b[0m",
      "\u001b[0;32m~/code/utils/miniconda3/envs/pymc/lib/python3.7/site-packages/pymc3/variational/inference.py\u001b[0m in \u001b[0;36mfit\u001b[0;34m(self, n, score, callbacks, progressbar, **kwargs)\u001b[0m\n\u001b[1;32m    132\u001b[0m         \u001b[0;32mwith\u001b[0m \u001b[0mtqdm\u001b[0m\u001b[0;34m.\u001b[0m\u001b[0mtrange\u001b[0m\u001b[0;34m(\u001b[0m\u001b[0mn\u001b[0m\u001b[0;34m,\u001b[0m \u001b[0mdisable\u001b[0m\u001b[0;34m=\u001b[0m\u001b[0;32mnot\u001b[0m \u001b[0mprogressbar\u001b[0m\u001b[0;34m)\u001b[0m \u001b[0;32mas\u001b[0m \u001b[0mprogress\u001b[0m\u001b[0;34m:\u001b[0m\u001b[0;34m\u001b[0m\u001b[0;34m\u001b[0m\u001b[0m\n\u001b[1;32m    133\u001b[0m             \u001b[0;32mif\u001b[0m \u001b[0mscore\u001b[0m\u001b[0;34m:\u001b[0m\u001b[0;34m\u001b[0m\u001b[0;34m\u001b[0m\u001b[0m\n\u001b[0;32m--> 134\u001b[0;31m                 \u001b[0mstate\u001b[0m \u001b[0;34m=\u001b[0m \u001b[0mself\u001b[0m\u001b[0;34m.\u001b[0m\u001b[0m_iterate_with_loss\u001b[0m\u001b[0;34m(\u001b[0m\u001b[0;36m0\u001b[0m\u001b[0;34m,\u001b[0m \u001b[0mn\u001b[0m\u001b[0;34m,\u001b[0m \u001b[0mstep_func\u001b[0m\u001b[0;34m,\u001b[0m \u001b[0mprogress\u001b[0m\u001b[0;34m,\u001b[0m \u001b[0mcallbacks\u001b[0m\u001b[0;34m)\u001b[0m\u001b[0;34m\u001b[0m\u001b[0;34m\u001b[0m\u001b[0m\n\u001b[0m\u001b[1;32m    135\u001b[0m             \u001b[0;32melse\u001b[0m\u001b[0;34m:\u001b[0m\u001b[0;34m\u001b[0m\u001b[0;34m\u001b[0m\u001b[0m\n\u001b[1;32m    136\u001b[0m                 \u001b[0mstate\u001b[0m \u001b[0;34m=\u001b[0m \u001b[0mself\u001b[0m\u001b[0;34m.\u001b[0m\u001b[0m_iterate_without_loss\u001b[0m\u001b[0;34m(\u001b[0m\u001b[0;36m0\u001b[0m\u001b[0;34m,\u001b[0m \u001b[0mn\u001b[0m\u001b[0;34m,\u001b[0m \u001b[0mstep_func\u001b[0m\u001b[0;34m,\u001b[0m \u001b[0mprogress\u001b[0m\u001b[0;34m,\u001b[0m \u001b[0mcallbacks\u001b[0m\u001b[0;34m)\u001b[0m\u001b[0;34m\u001b[0m\u001b[0;34m\u001b[0m\u001b[0m\n",
      "\u001b[0;32m~/code/utils/miniconda3/envs/pymc/lib/python3.7/site-packages/pymc3/variational/inference.py\u001b[0m in \u001b[0;36m_iterate_with_loss\u001b[0;34m(self, s, n, step_func, progress, callbacks)\u001b[0m\n\u001b[1;32m    193\u001b[0m         \u001b[0;32mtry\u001b[0m\u001b[0;34m:\u001b[0m\u001b[0;34m\u001b[0m\u001b[0;34m\u001b[0m\u001b[0m\n\u001b[1;32m    194\u001b[0m             \u001b[0;32mfor\u001b[0m \u001b[0mi\u001b[0m \u001b[0;32min\u001b[0m \u001b[0mprogress\u001b[0m\u001b[0;34m:\u001b[0m\u001b[0;34m\u001b[0m\u001b[0;34m\u001b[0m\u001b[0m\n\u001b[0;32m--> 195\u001b[0;31m                 \u001b[0me\u001b[0m \u001b[0;34m=\u001b[0m \u001b[0mstep_func\u001b[0m\u001b[0;34m(\u001b[0m\u001b[0;34m)\u001b[0m\u001b[0;34m\u001b[0m\u001b[0;34m\u001b[0m\u001b[0m\n\u001b[0m\u001b[1;32m    196\u001b[0m                 \u001b[0;32mif\u001b[0m \u001b[0mnp\u001b[0m\u001b[0;34m.\u001b[0m\u001b[0misnan\u001b[0m\u001b[0;34m(\u001b[0m\u001b[0me\u001b[0m\u001b[0;34m)\u001b[0m\u001b[0;34m:\u001b[0m  \u001b[0;31m# pragma: no cover\u001b[0m\u001b[0;34m\u001b[0m\u001b[0;34m\u001b[0m\u001b[0m\n\u001b[1;32m    197\u001b[0m                     \u001b[0mscores\u001b[0m \u001b[0;34m=\u001b[0m \u001b[0mscores\u001b[0m\u001b[0;34m[\u001b[0m\u001b[0;34m:\u001b[0m\u001b[0mi\u001b[0m\u001b[0;34m]\u001b[0m\u001b[0;34m\u001b[0m\u001b[0;34m\u001b[0m\u001b[0m\n",
      "\u001b[0;32m~/code/utils/miniconda3/envs/pymc/lib/python3.7/site-packages/theano/compile/function_module.py\u001b[0m in \u001b[0;36m__call__\u001b[0;34m(self, *args, **kwargs)\u001b[0m\n\u001b[1;32m    915\u001b[0m                     \u001b[0mnode\u001b[0m\u001b[0;34m=\u001b[0m\u001b[0mself\u001b[0m\u001b[0;34m.\u001b[0m\u001b[0mfn\u001b[0m\u001b[0;34m.\u001b[0m\u001b[0mnodes\u001b[0m\u001b[0;34m[\u001b[0m\u001b[0mself\u001b[0m\u001b[0;34m.\u001b[0m\u001b[0mfn\u001b[0m\u001b[0;34m.\u001b[0m\u001b[0mposition_of_error\u001b[0m\u001b[0;34m]\u001b[0m\u001b[0;34m,\u001b[0m\u001b[0;34m\u001b[0m\u001b[0;34m\u001b[0m\u001b[0m\n\u001b[1;32m    916\u001b[0m                     \u001b[0mthunk\u001b[0m\u001b[0;34m=\u001b[0m\u001b[0mthunk\u001b[0m\u001b[0;34m,\u001b[0m\u001b[0;34m\u001b[0m\u001b[0;34m\u001b[0m\u001b[0m\n\u001b[0;32m--> 917\u001b[0;31m                     storage_map=getattr(self.fn, 'storage_map', None))\n\u001b[0m\u001b[1;32m    918\u001b[0m             \u001b[0;32melse\u001b[0m\u001b[0;34m:\u001b[0m\u001b[0;34m\u001b[0m\u001b[0;34m\u001b[0m\u001b[0m\n\u001b[1;32m    919\u001b[0m                 \u001b[0;31m# old-style linkers raise their own exceptions\u001b[0m\u001b[0;34m\u001b[0m\u001b[0;34m\u001b[0m\u001b[0;34m\u001b[0m\u001b[0m\n",
      "\u001b[0;32m~/code/utils/miniconda3/envs/pymc/lib/python3.7/site-packages/theano/gof/link.py\u001b[0m in \u001b[0;36mraise_with_op\u001b[0;34m(node, thunk, exc_info, storage_map)\u001b[0m\n\u001b[1;32m    323\u001b[0m         \u001b[0;31m# extra long error message in that case.\u001b[0m\u001b[0;34m\u001b[0m\u001b[0;34m\u001b[0m\u001b[0;34m\u001b[0m\u001b[0m\n\u001b[1;32m    324\u001b[0m         \u001b[0;32mpass\u001b[0m\u001b[0;34m\u001b[0m\u001b[0;34m\u001b[0m\u001b[0m\n\u001b[0;32m--> 325\u001b[0;31m     \u001b[0mreraise\u001b[0m\u001b[0;34m(\u001b[0m\u001b[0mexc_type\u001b[0m\u001b[0;34m,\u001b[0m \u001b[0mexc_value\u001b[0m\u001b[0;34m,\u001b[0m \u001b[0mexc_trace\u001b[0m\u001b[0;34m)\u001b[0m\u001b[0;34m\u001b[0m\u001b[0;34m\u001b[0m\u001b[0m\n\u001b[0m\u001b[1;32m    326\u001b[0m \u001b[0;34m\u001b[0m\u001b[0m\n\u001b[1;32m    327\u001b[0m \u001b[0;34m\u001b[0m\u001b[0m\n",
      "\u001b[0;32m~/code/utils/miniconda3/envs/pymc/lib/python3.7/site-packages/six.py\u001b[0m in \u001b[0;36mreraise\u001b[0;34m(tp, value, tb)\u001b[0m\n\u001b[1;32m    690\u001b[0m                 \u001b[0mvalue\u001b[0m \u001b[0;34m=\u001b[0m \u001b[0mtp\u001b[0m\u001b[0;34m(\u001b[0m\u001b[0;34m)\u001b[0m\u001b[0;34m\u001b[0m\u001b[0;34m\u001b[0m\u001b[0m\n\u001b[1;32m    691\u001b[0m             \u001b[0;32mif\u001b[0m \u001b[0mvalue\u001b[0m\u001b[0;34m.\u001b[0m\u001b[0m__traceback__\u001b[0m \u001b[0;32mis\u001b[0m \u001b[0;32mnot\u001b[0m \u001b[0mtb\u001b[0m\u001b[0;34m:\u001b[0m\u001b[0;34m\u001b[0m\u001b[0;34m\u001b[0m\u001b[0m\n\u001b[0;32m--> 692\u001b[0;31m                 \u001b[0;32mraise\u001b[0m \u001b[0mvalue\u001b[0m\u001b[0;34m.\u001b[0m\u001b[0mwith_traceback\u001b[0m\u001b[0;34m(\u001b[0m\u001b[0mtb\u001b[0m\u001b[0;34m)\u001b[0m\u001b[0;34m\u001b[0m\u001b[0;34m\u001b[0m\u001b[0m\n\u001b[0m\u001b[1;32m    693\u001b[0m             \u001b[0;32mraise\u001b[0m \u001b[0mvalue\u001b[0m\u001b[0;34m\u001b[0m\u001b[0;34m\u001b[0m\u001b[0m\n\u001b[1;32m    694\u001b[0m         \u001b[0;32mfinally\u001b[0m\u001b[0;34m:\u001b[0m\u001b[0;34m\u001b[0m\u001b[0;34m\u001b[0m\u001b[0m\n",
      "\u001b[0;32m~/code/utils/miniconda3/envs/pymc/lib/python3.7/site-packages/theano/compile/function_module.py\u001b[0m in \u001b[0;36m__call__\u001b[0;34m(self, *args, **kwargs)\u001b[0m\n\u001b[1;32m    901\u001b[0m         \u001b[0;32mtry\u001b[0m\u001b[0;34m:\u001b[0m\u001b[0;34m\u001b[0m\u001b[0;34m\u001b[0m\u001b[0m\n\u001b[1;32m    902\u001b[0m             \u001b[0moutputs\u001b[0m \u001b[0;34m=\u001b[0m\u001b[0;31m\\\u001b[0m\u001b[0;34m\u001b[0m\u001b[0;34m\u001b[0m\u001b[0m\n\u001b[0;32m--> 903\u001b[0;31m                 \u001b[0mself\u001b[0m\u001b[0;34m.\u001b[0m\u001b[0mfn\u001b[0m\u001b[0;34m(\u001b[0m\u001b[0;34m)\u001b[0m \u001b[0;32mif\u001b[0m \u001b[0moutput_subset\u001b[0m \u001b[0;32mis\u001b[0m \u001b[0;32mNone\u001b[0m \u001b[0;32melse\u001b[0m\u001b[0;31m\\\u001b[0m\u001b[0;34m\u001b[0m\u001b[0;34m\u001b[0m\u001b[0m\n\u001b[0m\u001b[1;32m    904\u001b[0m                 \u001b[0mself\u001b[0m\u001b[0;34m.\u001b[0m\u001b[0mfn\u001b[0m\u001b[0;34m(\u001b[0m\u001b[0moutput_subset\u001b[0m\u001b[0;34m=\u001b[0m\u001b[0moutput_subset\u001b[0m\u001b[0;34m)\u001b[0m\u001b[0;34m\u001b[0m\u001b[0;34m\u001b[0m\u001b[0m\n\u001b[1;32m    905\u001b[0m         \u001b[0;32mexcept\u001b[0m \u001b[0mException\u001b[0m\u001b[0;34m:\u001b[0m\u001b[0;34m\u001b[0m\u001b[0;34m\u001b[0m\u001b[0m\n",
      "\u001b[0;31mIndexError\u001b[0m: index 377 is out of bounds for size 24\nApply node that caused the error: AdvancedSubtensor1(theta, TensorConstant{[ 377  375.. 716   54]})\nToposort index: 209\nInputs types: [TensorType(float64, matrix), TensorType(int32, vector)]\nInputs shapes: [(24, 10), (24,)]\nInputs strides: [(8, 192), (4,)]\nInputs values: ['not shown', 'not shown']\nOutputs clients: [[Subtensor{::, int64}(AdvancedSubtensor1.0, Constant{9}), AdvancedSubtensor1(AdvancedSubtensor1.0, Subtensor{int64}.0)]]\n\nBacktrace when the node is created(use Theano flag traceback.limit=N to make it longer):\n  File \"/home/mt/code/utils/miniconda3/envs/pymc/lib/python3.7/site-packages/IPython/core/interactiveshell.py\", line 3214, in run_ast_nodes\n    if (yield from self.run_code(code, result)):\n  File \"/home/mt/code/utils/miniconda3/envs/pymc/lib/python3.7/site-packages/IPython/core/interactiveshell.py\", line 3296, in run_code\n    exec(code_obj, self.user_global_ns, self.user_ns)\n  File \"<ipython-input-59-bdb47a819708>\", line 24, in <module>\n    doc = pm.DensityDist('doc', logp_lda_doc(docs_tr,theta,beta,ambient), observed=doc_t_minibatch)\n  File \"/home/mt/code/utils/miniconda3/envs/pymc/lib/python3.7/site-packages/pymc3/distributions/distribution.py\", line 46, in __new__\n    return model.Var(name, dist, data, total_size)\n  File \"/home/mt/code/utils/miniconda3/envs/pymc/lib/python3.7/site-packages/pymc3/model.py\", line 856, in Var\n    total_size=total_size, model=self)\n  File \"/home/mt/code/utils/miniconda3/envs/pymc/lib/python3.7/site-packages/pymc3/model.py\", line 1392, in __init__\n    self.logp_sum_unscaledt = distribution.logp_sum(data)\n  File \"/home/mt/code/utils/miniconda3/envs/pymc/lib/python3.7/site-packages/pymc3/distributions/distribution.py\", line 123, in logp_sum\n    return tt.sum(self.logp(*args, **kwargs))\n  File \"<ipython-input-58-97458387cb93>\", line 23, in ll_docs_f\n    subtheta=theta[inds,:]\n\nHINT: Use the Theano flag 'exception_verbosity=high' for a debugprint and storage map footprint of this apply node."
     ]
    }
   ],
   "source": [
    "η = .1\n",
    "s = shared(η)\n",
    "def reduce_rate(a, h, i):\n",
    "    s.set_value(η/((i/minibatch_size)+1)**.7)\n",
    "\n",
    "with model:\n",
    "    approx = pm.MeanField(local_rv=local_RVs)\n",
    "    approx.scale_cost_to_minibatch = False\n",
    "    inference = pm.KLqp(approx)\n",
    "inference.fit(10000,more_obj_params=encoder_params,more_replacements={doc_t: doc_t_minibatch})"
   ]
  },
  {
   "cell_type": "code",
   "execution_count": null,
   "metadata": {},
   "outputs": [],
   "source": []
  },
  {
   "cell_type": "code",
   "execution_count": null,
   "metadata": {},
   "outputs": [],
   "source": []
  }
 ],
 "metadata": {
  "kernelspec": {
   "display_name": "Python 3",
   "language": "python",
   "name": "python3"
  },
  "language_info": {
   "codemirror_mode": {
    "name": "ipython",
    "version": 3
   },
   "file_extension": ".py",
   "mimetype": "text/x-python",
   "name": "python",
   "nbconvert_exporter": "python",
   "pygments_lexer": "ipython3",
   "version": "3.7.3"
  }
 },
 "nbformat": 4,
 "nbformat_minor": 2
}
