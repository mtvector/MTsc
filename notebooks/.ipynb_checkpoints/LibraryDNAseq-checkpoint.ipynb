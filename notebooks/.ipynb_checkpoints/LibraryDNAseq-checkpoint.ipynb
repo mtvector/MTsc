{
 "cells": [
  {
   "cell_type": "code",
   "execution_count": 2,
   "metadata": {},
   "outputs": [],
   "source": [
    "import sys\n",
    "import os"
   ]
  },
  {
   "cell_type": "code",
   "execution_count": 3,
   "metadata": {},
   "outputs": [],
   "source": [
    "def process(lines=None):\n",
    "    ks = ['name', 'sequence', 'optional', 'quality']\n",
    "    return {k: v for k, v in zip(ks, lines)}"
   ]
  },
  {
   "cell_type": "code",
   "execution_count": 15,
   "metadata": {},
   "outputs": [
    {
     "name": "stderr",
     "output_type": "stream",
     "text": [
      "Record: {'name': '@NB501427:227:HKWF3AFXY:1:11101:14270:1037 1:N:0:ANCGGCGACC', 'sequence': 'CGATACCGTCGACCTCGATCGAGACCTAGAAAAACATGGAGCAATCACAAGTAGCAATACAGCAGCTACCAATGCTGATTGTGCCTGGCTAGAAGCACAAGAGGAGGAGGAGGTGGGTTTTCCAGTCACACCTCAGGTACATACGC', 'optional': '+', 'quality': 'AAAAAEEEEEE/EEEEEEEEEEE/AEEEEEE/EEEEEEEEEEAAEE/EEEEEEEEEEEAEAEEEEEEEEEEAEEEEA<EAEEEEEAEEE<EEEEEEAE6EEEEEEEAEEEEEEEEEEEA<EEE<<EE/EAAAAE/EEEEAEAEAE<'}\n"
     ]
    },
    {
     "name": "stdout",
     "output_type": "stream",
     "text": [
      "CGATACCGTCGACCTCGATCGAGACCTAGAAAAACATGGAGCAATCACAAGTAGCAATACAGCAGCTACCAATGCTGATTGTGCCTGGCTAGAAGCACAAGAGGAGGAGGAGGTGGGTTTTCCAGTCACACCTCAGGTACATACGC\n"
     ]
    }
   ],
   "source": [
    "fn = \"/home/mt/Downloads/MS_plasmid_Seq_S2_R1_001.fastq\"\n",
    "\n",
    "n = 5\n",
    "with open(fn, 'r') as fh:\n",
    "    lines = []\n",
    "    seqs=[]\n",
    "    for line in fh:\n",
    "        lines.append(line.rstrip())\n",
    "        \n",
    "        if len(lines) == n:\n",
    "            record = process(lines)\n",
    "            sys.stderr.write(\"Record: %s\\n\" % (str(record)))\n",
    "            print(record['sequence'])\n",
    "            seqs.append(record['sequence'])"
   ]
  },
  {
   "cell_type": "code",
   "execution_count": 16,
   "metadata": {},
   "outputs": [
    {
     "data": {
      "text/plain": [
       "['CGATACCGTCGACCTCGATCGAGACCTAGAAAAACATGGAGCAATCACAAGTAGCAATACAGCAGCTACCAATGCTGATTGTGCCTGGCTAGAAGCACAAGAGGAGGAGGAGGTGGGTTTTCCAGTCACACCTCAGGTACATACGC']"
      ]
     },
     "execution_count": 16,
     "metadata": {},
     "output_type": "execute_result"
    }
   ],
   "source": [
    "seqs"
   ]
  },
  {
   "cell_type": "code",
   "execution_count": null,
   "metadata": {},
   "outputs": [],
   "source": []
  }
 ],
 "metadata": {
  "kernelspec": {
   "display_name": "Python 3",
   "language": "python",
   "name": "python3"
  },
  "language_info": {
   "codemirror_mode": {
    "name": "ipython",
    "version": 3
   },
   "file_extension": ".py",
   "mimetype": "text/x-python",
   "name": "python",
   "nbconvert_exporter": "python",
   "pygments_lexer": "ipython3",
   "version": "3.6.8"
  }
 },
 "nbformat": 4,
 "nbformat_minor": 2
}
